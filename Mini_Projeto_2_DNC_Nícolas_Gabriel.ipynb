{
  "nbformat": 4,
  "nbformat_minor": 0,
  "metadata": {
    "colab": {
      "provenance": [],
      "include_colab_link": true
    },
    "kernelspec": {
      "name": "python3",
      "display_name": "Python 3"
    },
    "language_info": {
      "name": "python"
    }
  },
  "cells": [
    {
      "cell_type": "markdown",
      "metadata": {
        "id": "view-in-github",
        "colab_type": "text"
      },
      "source": [
        "<a href=\"https://colab.research.google.com/github/NicoRGabriel/arquivo-git-DNC/blob/master/Mini_Projeto_2_DNC_N%C3%ADcolas_Gabriel.ipynb\" target=\"_parent\"><img src=\"https://colab.research.google.com/assets/colab-badge.svg\" alt=\"Open In Colab\"/></a>"
      ]
    },
    {
      "cell_type": "markdown",
      "source": [
        "##Carregando o arquivo .CSV e Biblioteca Pandas"
      ],
      "metadata": {
        "id": "3dV-My1PMjjJ"
      }
    },
    {
      "cell_type": "code",
      "execution_count": null,
      "metadata": {
        "id": "7M75vEIUM82G"
      },
      "outputs": [],
      "source": [
        "import pandas as pd\n",
        "db = pd.read_csv('Walmart.csv')"
      ]
    },
    {
      "cell_type": "code",
      "source": [
        "db\n"
      ],
      "metadata": {
        "id": "GAnvYqi0NsGi"
      },
      "execution_count": null,
      "outputs": []
    },
    {
      "cell_type": "markdown",
      "source": [
        "#Acrescentado colunas para melhorar o filtro de futuras possíveis análises"
      ],
      "metadata": {
        "id": "xC6m81IdMtCY"
      }
    },
    {
      "cell_type": "code",
      "source": [
        "#Pegando dia, mes e ano\n",
        "db['Day'] = db['Date'].str[0:2].astype('int32')\n",
        "db['Month'] = db['Date'].str[3:5].astype('int32')\n",
        "db['Year'] = db['Date'].str[6:10].astype('int32')\n",
        "db"
      ],
      "metadata": {
        "colab": {
          "base_uri": "https://localhost:8080/",
          "height": 423
        },
        "id": "iJXmqaV7508U",
        "outputId": "a7aabc06-e206-4e6c-a6f4-f8413594d7d6"
      },
      "execution_count": null,
      "outputs": [
        {
          "output_type": "execute_result",
          "data": {
            "text/plain": [
              "      Store        Date  Weekly_Sales  Holiday_Flag  Temperature  Fuel_Price  \\\n",
              "0         1  05-02-2010    1643690.90             0        42.31       2.572   \n",
              "1         1  12-02-2010    1641957.44             1        38.51       2.548   \n",
              "2         1  19-02-2010    1611968.17             0        39.93       2.514   \n",
              "3         1  26-02-2010    1409727.59             0        46.63       2.561   \n",
              "4         1  05-03-2010    1554806.68             0        46.50       2.625   \n",
              "...     ...         ...           ...           ...          ...         ...   \n",
              "6430     45  28-09-2012     713173.95             0        64.88       3.997   \n",
              "6431     45  05-10-2012     733455.07             0        64.89       3.985   \n",
              "6432     45  12-10-2012     734464.36             0        54.47       4.000   \n",
              "6433     45  19-10-2012     718125.53             0        56.47       3.969   \n",
              "6434     45  26-10-2012     760281.43             0        58.85       3.882   \n",
              "\n",
              "             CPI  Unemployment  Day  Month  Year  \n",
              "0     211.096358         8.106    5      2  2010  \n",
              "1     211.242170         8.106   12      2  2010  \n",
              "2     211.289143         8.106   19      2  2010  \n",
              "3     211.319643         8.106   26      2  2010  \n",
              "4     211.350143         8.106    5      3  2010  \n",
              "...          ...           ...  ...    ...   ...  \n",
              "6430  192.013558         8.684   28      9  2012  \n",
              "6431  192.170412         8.667    5     10  2012  \n",
              "6432  192.327265         8.667   12     10  2012  \n",
              "6433  192.330854         8.667   19     10  2012  \n",
              "6434  192.308899         8.667   26     10  2012  \n",
              "\n",
              "[6435 rows x 11 columns]"
            ],
            "text/html": [
              "\n",
              "  <div id=\"df-a5fa3790-bce0-4173-b0f7-5e16578fcb29\">\n",
              "    <div class=\"colab-df-container\">\n",
              "      <div>\n",
              "<style scoped>\n",
              "    .dataframe tbody tr th:only-of-type {\n",
              "        vertical-align: middle;\n",
              "    }\n",
              "\n",
              "    .dataframe tbody tr th {\n",
              "        vertical-align: top;\n",
              "    }\n",
              "\n",
              "    .dataframe thead th {\n",
              "        text-align: right;\n",
              "    }\n",
              "</style>\n",
              "<table border=\"1\" class=\"dataframe\">\n",
              "  <thead>\n",
              "    <tr style=\"text-align: right;\">\n",
              "      <th></th>\n",
              "      <th>Store</th>\n",
              "      <th>Date</th>\n",
              "      <th>Weekly_Sales</th>\n",
              "      <th>Holiday_Flag</th>\n",
              "      <th>Temperature</th>\n",
              "      <th>Fuel_Price</th>\n",
              "      <th>CPI</th>\n",
              "      <th>Unemployment</th>\n",
              "      <th>Day</th>\n",
              "      <th>Month</th>\n",
              "      <th>Year</th>\n",
              "    </tr>\n",
              "  </thead>\n",
              "  <tbody>\n",
              "    <tr>\n",
              "      <th>0</th>\n",
              "      <td>1</td>\n",
              "      <td>05-02-2010</td>\n",
              "      <td>1643690.90</td>\n",
              "      <td>0</td>\n",
              "      <td>42.31</td>\n",
              "      <td>2.572</td>\n",
              "      <td>211.096358</td>\n",
              "      <td>8.106</td>\n",
              "      <td>5</td>\n",
              "      <td>2</td>\n",
              "      <td>2010</td>\n",
              "    </tr>\n",
              "    <tr>\n",
              "      <th>1</th>\n",
              "      <td>1</td>\n",
              "      <td>12-02-2010</td>\n",
              "      <td>1641957.44</td>\n",
              "      <td>1</td>\n",
              "      <td>38.51</td>\n",
              "      <td>2.548</td>\n",
              "      <td>211.242170</td>\n",
              "      <td>8.106</td>\n",
              "      <td>12</td>\n",
              "      <td>2</td>\n",
              "      <td>2010</td>\n",
              "    </tr>\n",
              "    <tr>\n",
              "      <th>2</th>\n",
              "      <td>1</td>\n",
              "      <td>19-02-2010</td>\n",
              "      <td>1611968.17</td>\n",
              "      <td>0</td>\n",
              "      <td>39.93</td>\n",
              "      <td>2.514</td>\n",
              "      <td>211.289143</td>\n",
              "      <td>8.106</td>\n",
              "      <td>19</td>\n",
              "      <td>2</td>\n",
              "      <td>2010</td>\n",
              "    </tr>\n",
              "    <tr>\n",
              "      <th>3</th>\n",
              "      <td>1</td>\n",
              "      <td>26-02-2010</td>\n",
              "      <td>1409727.59</td>\n",
              "      <td>0</td>\n",
              "      <td>46.63</td>\n",
              "      <td>2.561</td>\n",
              "      <td>211.319643</td>\n",
              "      <td>8.106</td>\n",
              "      <td>26</td>\n",
              "      <td>2</td>\n",
              "      <td>2010</td>\n",
              "    </tr>\n",
              "    <tr>\n",
              "      <th>4</th>\n",
              "      <td>1</td>\n",
              "      <td>05-03-2010</td>\n",
              "      <td>1554806.68</td>\n",
              "      <td>0</td>\n",
              "      <td>46.50</td>\n",
              "      <td>2.625</td>\n",
              "      <td>211.350143</td>\n",
              "      <td>8.106</td>\n",
              "      <td>5</td>\n",
              "      <td>3</td>\n",
              "      <td>2010</td>\n",
              "    </tr>\n",
              "    <tr>\n",
              "      <th>...</th>\n",
              "      <td>...</td>\n",
              "      <td>...</td>\n",
              "      <td>...</td>\n",
              "      <td>...</td>\n",
              "      <td>...</td>\n",
              "      <td>...</td>\n",
              "      <td>...</td>\n",
              "      <td>...</td>\n",
              "      <td>...</td>\n",
              "      <td>...</td>\n",
              "      <td>...</td>\n",
              "    </tr>\n",
              "    <tr>\n",
              "      <th>6430</th>\n",
              "      <td>45</td>\n",
              "      <td>28-09-2012</td>\n",
              "      <td>713173.95</td>\n",
              "      <td>0</td>\n",
              "      <td>64.88</td>\n",
              "      <td>3.997</td>\n",
              "      <td>192.013558</td>\n",
              "      <td>8.684</td>\n",
              "      <td>28</td>\n",
              "      <td>9</td>\n",
              "      <td>2012</td>\n",
              "    </tr>\n",
              "    <tr>\n",
              "      <th>6431</th>\n",
              "      <td>45</td>\n",
              "      <td>05-10-2012</td>\n",
              "      <td>733455.07</td>\n",
              "      <td>0</td>\n",
              "      <td>64.89</td>\n",
              "      <td>3.985</td>\n",
              "      <td>192.170412</td>\n",
              "      <td>8.667</td>\n",
              "      <td>5</td>\n",
              "      <td>10</td>\n",
              "      <td>2012</td>\n",
              "    </tr>\n",
              "    <tr>\n",
              "      <th>6432</th>\n",
              "      <td>45</td>\n",
              "      <td>12-10-2012</td>\n",
              "      <td>734464.36</td>\n",
              "      <td>0</td>\n",
              "      <td>54.47</td>\n",
              "      <td>4.000</td>\n",
              "      <td>192.327265</td>\n",
              "      <td>8.667</td>\n",
              "      <td>12</td>\n",
              "      <td>10</td>\n",
              "      <td>2012</td>\n",
              "    </tr>\n",
              "    <tr>\n",
              "      <th>6433</th>\n",
              "      <td>45</td>\n",
              "      <td>19-10-2012</td>\n",
              "      <td>718125.53</td>\n",
              "      <td>0</td>\n",
              "      <td>56.47</td>\n",
              "      <td>3.969</td>\n",
              "      <td>192.330854</td>\n",
              "      <td>8.667</td>\n",
              "      <td>19</td>\n",
              "      <td>10</td>\n",
              "      <td>2012</td>\n",
              "    </tr>\n",
              "    <tr>\n",
              "      <th>6434</th>\n",
              "      <td>45</td>\n",
              "      <td>26-10-2012</td>\n",
              "      <td>760281.43</td>\n",
              "      <td>0</td>\n",
              "      <td>58.85</td>\n",
              "      <td>3.882</td>\n",
              "      <td>192.308899</td>\n",
              "      <td>8.667</td>\n",
              "      <td>26</td>\n",
              "      <td>10</td>\n",
              "      <td>2012</td>\n",
              "    </tr>\n",
              "  </tbody>\n",
              "</table>\n",
              "<p>6435 rows × 11 columns</p>\n",
              "</div>\n",
              "      <button class=\"colab-df-convert\" onclick=\"convertToInteractive('df-a5fa3790-bce0-4173-b0f7-5e16578fcb29')\"\n",
              "              title=\"Convert this dataframe to an interactive table.\"\n",
              "              style=\"display:none;\">\n",
              "        \n",
              "  <svg xmlns=\"http://www.w3.org/2000/svg\" height=\"24px\"viewBox=\"0 0 24 24\"\n",
              "       width=\"24px\">\n",
              "    <path d=\"M0 0h24v24H0V0z\" fill=\"none\"/>\n",
              "    <path d=\"M18.56 5.44l.94 2.06.94-2.06 2.06-.94-2.06-.94-.94-2.06-.94 2.06-2.06.94zm-11 1L8.5 8.5l.94-2.06 2.06-.94-2.06-.94L8.5 2.5l-.94 2.06-2.06.94zm10 10l.94 2.06.94-2.06 2.06-.94-2.06-.94-.94-2.06-.94 2.06-2.06.94z\"/><path d=\"M17.41 7.96l-1.37-1.37c-.4-.4-.92-.59-1.43-.59-.52 0-1.04.2-1.43.59L10.3 9.45l-7.72 7.72c-.78.78-.78 2.05 0 2.83L4 21.41c.39.39.9.59 1.41.59.51 0 1.02-.2 1.41-.59l7.78-7.78 2.81-2.81c.8-.78.8-2.07 0-2.86zM5.41 20L4 18.59l7.72-7.72 1.47 1.35L5.41 20z\"/>\n",
              "  </svg>\n",
              "      </button>\n",
              "      \n",
              "  <style>\n",
              "    .colab-df-container {\n",
              "      display:flex;\n",
              "      flex-wrap:wrap;\n",
              "      gap: 12px;\n",
              "    }\n",
              "\n",
              "    .colab-df-convert {\n",
              "      background-color: #E8F0FE;\n",
              "      border: none;\n",
              "      border-radius: 50%;\n",
              "      cursor: pointer;\n",
              "      display: none;\n",
              "      fill: #1967D2;\n",
              "      height: 32px;\n",
              "      padding: 0 0 0 0;\n",
              "      width: 32px;\n",
              "    }\n",
              "\n",
              "    .colab-df-convert:hover {\n",
              "      background-color: #E2EBFA;\n",
              "      box-shadow: 0px 1px 2px rgba(60, 64, 67, 0.3), 0px 1px 3px 1px rgba(60, 64, 67, 0.15);\n",
              "      fill: #174EA6;\n",
              "    }\n",
              "\n",
              "    [theme=dark] .colab-df-convert {\n",
              "      background-color: #3B4455;\n",
              "      fill: #D2E3FC;\n",
              "    }\n",
              "\n",
              "    [theme=dark] .colab-df-convert:hover {\n",
              "      background-color: #434B5C;\n",
              "      box-shadow: 0px 1px 3px 1px rgba(0, 0, 0, 0.15);\n",
              "      filter: drop-shadow(0px 1px 2px rgba(0, 0, 0, 0.3));\n",
              "      fill: #FFFFFF;\n",
              "    }\n",
              "  </style>\n",
              "\n",
              "      <script>\n",
              "        const buttonEl =\n",
              "          document.querySelector('#df-a5fa3790-bce0-4173-b0f7-5e16578fcb29 button.colab-df-convert');\n",
              "        buttonEl.style.display =\n",
              "          google.colab.kernel.accessAllowed ? 'block' : 'none';\n",
              "\n",
              "        async function convertToInteractive(key) {\n",
              "          const element = document.querySelector('#df-a5fa3790-bce0-4173-b0f7-5e16578fcb29');\n",
              "          const dataTable =\n",
              "            await google.colab.kernel.invokeFunction('convertToInteractive',\n",
              "                                                     [key], {});\n",
              "          if (!dataTable) return;\n",
              "\n",
              "          const docLinkHtml = 'Like what you see? Visit the ' +\n",
              "            '<a target=\"_blank\" href=https://colab.research.google.com/notebooks/data_table.ipynb>data table notebook</a>'\n",
              "            + ' to learn more about interactive tables.';\n",
              "          element.innerHTML = '';\n",
              "          dataTable['output_type'] = 'display_data';\n",
              "          await google.colab.output.renderOutput(dataTable, element);\n",
              "          const docLink = document.createElement('div');\n",
              "          docLink.innerHTML = docLinkHtml;\n",
              "          element.appendChild(docLink);\n",
              "        }\n",
              "      </script>\n",
              "    </div>\n",
              "  </div>\n",
              "  "
            ]
          },
          "metadata": {},
          "execution_count": 4
        }
      ]
    },
    {
      "cell_type": "markdown",
      "source": [
        "## Teste de médias"
      ],
      "metadata": {
        "id": "3W23engh-8jc"
      }
    },
    {
      "cell_type": "code",
      "source": [
        "db_mediaTotal = db.groupby('Store').agg({'Weekly_Sales': 'mean'})\n",
        "db_mediaTotal  =db_mediaTotal.sort_values(by='Weekly_Sales',ascending=False)\n",
        "db_mediaTotal"
      ],
      "metadata": {
        "id": "a8qTn_J4wYip"
      },
      "execution_count": null,
      "outputs": []
    },
    {
      "cell_type": "code",
      "source": [
        "db_somaTotal = db.groupby('Store').agg({'Weekly_Sales': 'sum'})\n",
        "db_somaTotal  =db_somaTotal.sort_values(by='Weekly_Sales',ascending=False)\n",
        "db_somaTotal"
      ],
      "metadata": {
        "id": "vr_AcH7kjKG3"
      },
      "execution_count": null,
      "outputs": []
    },
    {
      "cell_type": "markdown",
      "source": [
        "#Filtro e soma das vendas por ano ( 2010, 2011, 2012 )"
      ],
      "metadata": {
        "id": "BBh0qmkbOetO"
      }
    },
    {
      "cell_type": "code",
      "source": [
        "db_2010 = db.loc[db['Year'] == 2010]\n",
        "db_2011 = db.loc[db['Year'] == 2011]\n",
        "db_2012 = db.loc[db['Year'] == 2012]\n",
        "soma_2010 = db_2010.groupby(['Store'])['Weekly_Sales'].sum().reset_index()\n",
        "soma_2011 = db_2011.groupby(['Store'])['Weekly_Sales'].sum().reset_index()\n",
        "soma_2012 = db_2012.groupby(['Store'])['Weekly_Sales'].sum().reset_index()\n",
        "soma_2012"
      ],
      "metadata": {
        "id": "fsP2OiXLYuiJ"
      },
      "execution_count": null,
      "outputs": []
    },
    {
      "cell_type": "markdown",
      "source": [
        "#Criando análise para demostração em grafico do crescimento por ano( 2010,2011,2012 )"
      ],
      "metadata": {
        "id": "L10PkseQO_JH"
      }
    },
    {
      "cell_type": "code",
      "source": [
        "\n",
        "#db_grafico = soma_2010.copy()\n",
        "\n",
        "db_grafico = db_grafico.rename(columns={'Weekly_Sales' : 'Sales_2010'})\n",
        "db_grafico"
      ],
      "metadata": {
        "id": "UBANO6GXI85K"
      },
      "execution_count": null,
      "outputs": []
    },
    {
      "cell_type": "code",
      "source": [
        "db_grafico.columns"
      ],
      "metadata": {
        "colab": {
          "base_uri": "https://localhost:8080/"
        },
        "id": "HCBVkeVcV5h4",
        "outputId": "0fbb3118-f46a-4131-b636-09be8f7bfc27"
      },
      "execution_count": null,
      "outputs": [
        {
          "output_type": "execute_result",
          "data": {
            "text/plain": [
              "Index(['Store', 'Sales_2010', 'Sales_2012', 'Sales_2011', 'growth_2010',\n",
              "       'growth_2011', 'g2010_delta'],\n",
              "      dtype='object')"
            ]
          },
          "metadata": {},
          "execution_count": 20
        }
      ]
    },
    {
      "cell_type": "code",
      "source": [
        "db_grafico['Sales_2010'] = soma_2010['Weekly_Sales']"
      ],
      "metadata": {
        "id": "AvGMhqDQpuWs"
      },
      "execution_count": null,
      "outputs": []
    },
    {
      "cell_type": "code",
      "source": [
        "db_grafico['Sales_2011'] = soma_2011['Weekly_Sales']"
      ],
      "metadata": {
        "id": "SZ-4V1pNpmr0"
      },
      "execution_count": null,
      "outputs": []
    },
    {
      "cell_type": "code",
      "source": [
        "db_grafico['Sales_2012'] = soma_2012['Weekly_Sales']"
      ],
      "metadata": {
        "id": "UpVLUpnATjHI"
      },
      "execution_count": null,
      "outputs": []
    },
    {
      "cell_type": "code",
      "source": [
        "db_grafico['growth_2010'] = ((db_grafico['Sales_2011'] - db_grafico['Sales_2010']) / db_grafico['Sales_2010']) * 100\n",
        "db_grafico['growth_2011'] = ((db_grafico['Sales_2012'] - db_grafico['Sales_2011']) / db_grafico['Sales_2011']) * 100\n"
      ],
      "metadata": {
        "id": "qhTSdML2whdC"
      },
      "execution_count": null,
      "outputs": []
    },
    {
      "cell_type": "code",
      "source": [
        "db_grafico['g2012_delta'] = ((db_grafico['Sales_2012']-db_grafico['Sales_2011']-1)*100)"
      ],
      "metadata": {
        "id": "rVPwIwWhordx"
      },
      "execution_count": null,
      "outputs": []
    },
    {
      "cell_type": "code",
      "source": [
        "db_grafico['g2011_delta'] = ((db_grafico['Sales_2011']-db_grafico['Sales_2010']-1)*100)"
      ],
      "metadata": {
        "id": "KwjIFTLPqBeC"
      },
      "execution_count": null,
      "outputs": []
    },
    {
      "cell_type": "code",
      "source": [
        "db_grafico['g2010_delta'] = ((db_grafico['Sales_2012']-db_grafico['Sales_2010']-1)*100)"
      ],
      "metadata": {
        "id": "8cnHs2LDqSiT"
      },
      "execution_count": null,
      "outputs": []
    },
    {
      "cell_type": "code",
      "source": [
        "db_grafico"
      ],
      "metadata": {
        "id": "cbfOKBLuWpCl"
      },
      "execution_count": null,
      "outputs": []
    },
    {
      "cell_type": "markdown",
      "source": [
        "#O gráfico a seguir trata do crescimento em valor percentual"
      ],
      "metadata": {
        "id": "aGLus3I7Qwy0"
      }
    },
    {
      "cell_type": "code",
      "source": [
        "import plotly.graph_objects as go\n",
        "\n",
        "fig1 = go.Figure()\n",
        "\n",
        "fig1.add_trace(go.Bar(x=db_grafico['Store'], y=db_grafico['growth_2010'],\n",
        "                     marker_color='blue',\n",
        "                     name='Crecimento do ano de 2010'))\n",
        "fig1.add_trace(go.Bar(x=db_grafico['Store'], y=db_grafico['growth_2011'],\n",
        "                     marker_color='green',\n",
        "                     name='Crecimento do ano de 2011'))\n",
        "\n",
        "\n",
        "fig1.update_layout(title='Crescimento de vendas por loja entre 2010 e 2012 em valores percentuais %',\n",
        "                  xaxis_title='Loja',\n",
        "                  yaxis_title='Crescimento de vendas (%)')\n",
        "\n",
        "fig1.show()\n"
      ],
      "metadata": {
        "colab": {
          "base_uri": "https://localhost:8080/",
          "height": 542
        },
        "id": "VjFZJahCsaf7",
        "outputId": "997d583c-7255-4a10-b9df-7ccec9e3b032"
      },
      "execution_count": null,
      "outputs": [
        {
          "output_type": "display_data",
          "data": {
            "text/html": [
              "<html>\n",
              "<head><meta charset=\"utf-8\" /></head>\n",
              "<body>\n",
              "    <div>            <script src=\"https://cdnjs.cloudflare.com/ajax/libs/mathjax/2.7.5/MathJax.js?config=TeX-AMS-MML_SVG\"></script><script type=\"text/javascript\">if (window.MathJax && window.MathJax.Hub && window.MathJax.Hub.Config) {window.MathJax.Hub.Config({SVG: {font: \"STIX-Web\"}});}</script>                <script type=\"text/javascript\">window.PlotlyConfig = {MathJaxConfig: 'local'};</script>\n",
              "        <script src=\"https://cdn.plot.ly/plotly-2.18.2.min.js\"></script>                <div id=\"1ae723fe-8ae1-4591-be4b-5cb1d172daf3\" class=\"plotly-graph-div\" style=\"height:525px; width:100%;\"></div>            <script type=\"text/javascript\">                                    window.PLOTLYENV=window.PLOTLYENV || {};                                    if (document.getElementById(\"1ae723fe-8ae1-4591-be4b-5cb1d172daf3\")) {                    Plotly.newPlot(                        \"1ae723fe-8ae1-4591-be4b-5cb1d172daf3\",                        [{\"marker\":{\"color\":\"blue\"},\"name\":\"Crecimento do ano de 2010\",\"x\":[1,2,3,4,5,6,7,8,9,10,11,12,13,14,15,16,17,18,19,20,21,22,23,24,25,26,27,28,29,30,31,32,33,34,35,36,37,38,39,40,41,42,43,44,45],\"y\":[10.430142813957513,3.495058645898477,11.050473558366448,16.107594778253574,11.019047178748878,4.702032428037513,19.925480280965118,9.9719099374661,14.153841320857612,4.704762275065845,8.073608918627533,8.707015272382005,9.724479764583053,0.6011898720259392,0.8090819584021031,10.88913788580818,12.862010833270451,-3.145278617943344,3.1156724570255303,7.965866739359273,6.919210700142353,5.28736202439428,6.7412328948997065,4.557182072840385,3.694581307285987,7.560448821451149,2.1213645521275986,6.757219985175779,3.724066257419014,2.0380882947886816,13.13135592268698,11.154470589427214,1.4960827884985808,9.121835863705973,-15.535667131999448,-10.308202068835724,10.49851714406458,20.213440225325385,15.194559293414242,8.592343160273241,15.548892153121807,14.194054428291086,1.6367738274320598,13.894341484847194,6.744346460290545],\"type\":\"bar\"},{\"marker\":{\"color\":\"green\"},\"name\":\"Crecimento do ano de 2011\",\"x\":[1,2,3,4,5,6,7,8,9,10,11,12,13,14,15,16,17,18,19,20,21,22,23,24,25,26,27,28,29,30,31,32,33,34,35,36,37,38,39,40,41,42,43,44,45],\"y\":[-15.718684126511837,-17.352757004400505,-13.414294217530639,-16.491786730495434,-13.976121832428506,-17.65048341649709,-17.268845605603445,-17.424501274500702,-16.425939675356243,-20.91480717664914,-17.49700838263806,-17.586160187438455,-17.056133958069925,-27.008369145250267,-23.093209468230068,-19.397071177940724,-13.162791477101782,-17.151514045279896,-20.88331116982605,-18.217260622625027,-24.811795766298406,-20.351254459637243,-18.686722970046162,-18.23386796707654,-19.058633927953082,-17.431196665049768,-21.76027413283045,-19.99407107772095,-20.41464439587672,-15.266773386446756,-19.25976467982404,-18.03844129170748,-11.74799219011919,-17.118718712590777,-20.07226710695552,-29.970286626879066,-16.501012787300702,-6.567879568291947,-13.053910415770561,-18.212230254942934,-14.731178271506042,-14.31088197703581,-15.842294063695295,-8.457894470362845,-20.448918153688822],\"type\":\"bar\"}],                        {\"template\":{\"data\":{\"histogram2dcontour\":[{\"type\":\"histogram2dcontour\",\"colorbar\":{\"outlinewidth\":0,\"ticks\":\"\"},\"colorscale\":[[0.0,\"#0d0887\"],[0.1111111111111111,\"#46039f\"],[0.2222222222222222,\"#7201a8\"],[0.3333333333333333,\"#9c179e\"],[0.4444444444444444,\"#bd3786\"],[0.5555555555555556,\"#d8576b\"],[0.6666666666666666,\"#ed7953\"],[0.7777777777777778,\"#fb9f3a\"],[0.8888888888888888,\"#fdca26\"],[1.0,\"#f0f921\"]]}],\"choropleth\":[{\"type\":\"choropleth\",\"colorbar\":{\"outlinewidth\":0,\"ticks\":\"\"}}],\"histogram2d\":[{\"type\":\"histogram2d\",\"colorbar\":{\"outlinewidth\":0,\"ticks\":\"\"},\"colorscale\":[[0.0,\"#0d0887\"],[0.1111111111111111,\"#46039f\"],[0.2222222222222222,\"#7201a8\"],[0.3333333333333333,\"#9c179e\"],[0.4444444444444444,\"#bd3786\"],[0.5555555555555556,\"#d8576b\"],[0.6666666666666666,\"#ed7953\"],[0.7777777777777778,\"#fb9f3a\"],[0.8888888888888888,\"#fdca26\"],[1.0,\"#f0f921\"]]}],\"heatmap\":[{\"type\":\"heatmap\",\"colorbar\":{\"outlinewidth\":0,\"ticks\":\"\"},\"colorscale\":[[0.0,\"#0d0887\"],[0.1111111111111111,\"#46039f\"],[0.2222222222222222,\"#7201a8\"],[0.3333333333333333,\"#9c179e\"],[0.4444444444444444,\"#bd3786\"],[0.5555555555555556,\"#d8576b\"],[0.6666666666666666,\"#ed7953\"],[0.7777777777777778,\"#fb9f3a\"],[0.8888888888888888,\"#fdca26\"],[1.0,\"#f0f921\"]]}],\"heatmapgl\":[{\"type\":\"heatmapgl\",\"colorbar\":{\"outlinewidth\":0,\"ticks\":\"\"},\"colorscale\":[[0.0,\"#0d0887\"],[0.1111111111111111,\"#46039f\"],[0.2222222222222222,\"#7201a8\"],[0.3333333333333333,\"#9c179e\"],[0.4444444444444444,\"#bd3786\"],[0.5555555555555556,\"#d8576b\"],[0.6666666666666666,\"#ed7953\"],[0.7777777777777778,\"#fb9f3a\"],[0.8888888888888888,\"#fdca26\"],[1.0,\"#f0f921\"]]}],\"contourcarpet\":[{\"type\":\"contourcarpet\",\"colorbar\":{\"outlinewidth\":0,\"ticks\":\"\"}}],\"contour\":[{\"type\":\"contour\",\"colorbar\":{\"outlinewidth\":0,\"ticks\":\"\"},\"colorscale\":[[0.0,\"#0d0887\"],[0.1111111111111111,\"#46039f\"],[0.2222222222222222,\"#7201a8\"],[0.3333333333333333,\"#9c179e\"],[0.4444444444444444,\"#bd3786\"],[0.5555555555555556,\"#d8576b\"],[0.6666666666666666,\"#ed7953\"],[0.7777777777777778,\"#fb9f3a\"],[0.8888888888888888,\"#fdca26\"],[1.0,\"#f0f921\"]]}],\"surface\":[{\"type\":\"surface\",\"colorbar\":{\"outlinewidth\":0,\"ticks\":\"\"},\"colorscale\":[[0.0,\"#0d0887\"],[0.1111111111111111,\"#46039f\"],[0.2222222222222222,\"#7201a8\"],[0.3333333333333333,\"#9c179e\"],[0.4444444444444444,\"#bd3786\"],[0.5555555555555556,\"#d8576b\"],[0.6666666666666666,\"#ed7953\"],[0.7777777777777778,\"#fb9f3a\"],[0.8888888888888888,\"#fdca26\"],[1.0,\"#f0f921\"]]}],\"mesh3d\":[{\"type\":\"mesh3d\",\"colorbar\":{\"outlinewidth\":0,\"ticks\":\"\"}}],\"scatter\":[{\"fillpattern\":{\"fillmode\":\"overlay\",\"size\":10,\"solidity\":0.2},\"type\":\"scatter\"}],\"parcoords\":[{\"type\":\"parcoords\",\"line\":{\"colorbar\":{\"outlinewidth\":0,\"ticks\":\"\"}}}],\"scatterpolargl\":[{\"type\":\"scatterpolargl\",\"marker\":{\"colorbar\":{\"outlinewidth\":0,\"ticks\":\"\"}}}],\"bar\":[{\"error_x\":{\"color\":\"#2a3f5f\"},\"error_y\":{\"color\":\"#2a3f5f\"},\"marker\":{\"line\":{\"color\":\"#E5ECF6\",\"width\":0.5},\"pattern\":{\"fillmode\":\"overlay\",\"size\":10,\"solidity\":0.2}},\"type\":\"bar\"}],\"scattergeo\":[{\"type\":\"scattergeo\",\"marker\":{\"colorbar\":{\"outlinewidth\":0,\"ticks\":\"\"}}}],\"scatterpolar\":[{\"type\":\"scatterpolar\",\"marker\":{\"colorbar\":{\"outlinewidth\":0,\"ticks\":\"\"}}}],\"histogram\":[{\"marker\":{\"pattern\":{\"fillmode\":\"overlay\",\"size\":10,\"solidity\":0.2}},\"type\":\"histogram\"}],\"scattergl\":[{\"type\":\"scattergl\",\"marker\":{\"colorbar\":{\"outlinewidth\":0,\"ticks\":\"\"}}}],\"scatter3d\":[{\"type\":\"scatter3d\",\"line\":{\"colorbar\":{\"outlinewidth\":0,\"ticks\":\"\"}},\"marker\":{\"colorbar\":{\"outlinewidth\":0,\"ticks\":\"\"}}}],\"scattermapbox\":[{\"type\":\"scattermapbox\",\"marker\":{\"colorbar\":{\"outlinewidth\":0,\"ticks\":\"\"}}}],\"scatterternary\":[{\"type\":\"scatterternary\",\"marker\":{\"colorbar\":{\"outlinewidth\":0,\"ticks\":\"\"}}}],\"scattercarpet\":[{\"type\":\"scattercarpet\",\"marker\":{\"colorbar\":{\"outlinewidth\":0,\"ticks\":\"\"}}}],\"carpet\":[{\"aaxis\":{\"endlinecolor\":\"#2a3f5f\",\"gridcolor\":\"white\",\"linecolor\":\"white\",\"minorgridcolor\":\"white\",\"startlinecolor\":\"#2a3f5f\"},\"baxis\":{\"endlinecolor\":\"#2a3f5f\",\"gridcolor\":\"white\",\"linecolor\":\"white\",\"minorgridcolor\":\"white\",\"startlinecolor\":\"#2a3f5f\"},\"type\":\"carpet\"}],\"table\":[{\"cells\":{\"fill\":{\"color\":\"#EBF0F8\"},\"line\":{\"color\":\"white\"}},\"header\":{\"fill\":{\"color\":\"#C8D4E3\"},\"line\":{\"color\":\"white\"}},\"type\":\"table\"}],\"barpolar\":[{\"marker\":{\"line\":{\"color\":\"#E5ECF6\",\"width\":0.5},\"pattern\":{\"fillmode\":\"overlay\",\"size\":10,\"solidity\":0.2}},\"type\":\"barpolar\"}],\"pie\":[{\"automargin\":true,\"type\":\"pie\"}]},\"layout\":{\"autotypenumbers\":\"strict\",\"colorway\":[\"#636efa\",\"#EF553B\",\"#00cc96\",\"#ab63fa\",\"#FFA15A\",\"#19d3f3\",\"#FF6692\",\"#B6E880\",\"#FF97FF\",\"#FECB52\"],\"font\":{\"color\":\"#2a3f5f\"},\"hovermode\":\"closest\",\"hoverlabel\":{\"align\":\"left\"},\"paper_bgcolor\":\"white\",\"plot_bgcolor\":\"#E5ECF6\",\"polar\":{\"bgcolor\":\"#E5ECF6\",\"angularaxis\":{\"gridcolor\":\"white\",\"linecolor\":\"white\",\"ticks\":\"\"},\"radialaxis\":{\"gridcolor\":\"white\",\"linecolor\":\"white\",\"ticks\":\"\"}},\"ternary\":{\"bgcolor\":\"#E5ECF6\",\"aaxis\":{\"gridcolor\":\"white\",\"linecolor\":\"white\",\"ticks\":\"\"},\"baxis\":{\"gridcolor\":\"white\",\"linecolor\":\"white\",\"ticks\":\"\"},\"caxis\":{\"gridcolor\":\"white\",\"linecolor\":\"white\",\"ticks\":\"\"}},\"coloraxis\":{\"colorbar\":{\"outlinewidth\":0,\"ticks\":\"\"}},\"colorscale\":{\"sequential\":[[0.0,\"#0d0887\"],[0.1111111111111111,\"#46039f\"],[0.2222222222222222,\"#7201a8\"],[0.3333333333333333,\"#9c179e\"],[0.4444444444444444,\"#bd3786\"],[0.5555555555555556,\"#d8576b\"],[0.6666666666666666,\"#ed7953\"],[0.7777777777777778,\"#fb9f3a\"],[0.8888888888888888,\"#fdca26\"],[1.0,\"#f0f921\"]],\"sequentialminus\":[[0.0,\"#0d0887\"],[0.1111111111111111,\"#46039f\"],[0.2222222222222222,\"#7201a8\"],[0.3333333333333333,\"#9c179e\"],[0.4444444444444444,\"#bd3786\"],[0.5555555555555556,\"#d8576b\"],[0.6666666666666666,\"#ed7953\"],[0.7777777777777778,\"#fb9f3a\"],[0.8888888888888888,\"#fdca26\"],[1.0,\"#f0f921\"]],\"diverging\":[[0,\"#8e0152\"],[0.1,\"#c51b7d\"],[0.2,\"#de77ae\"],[0.3,\"#f1b6da\"],[0.4,\"#fde0ef\"],[0.5,\"#f7f7f7\"],[0.6,\"#e6f5d0\"],[0.7,\"#b8e186\"],[0.8,\"#7fbc41\"],[0.9,\"#4d9221\"],[1,\"#276419\"]]},\"xaxis\":{\"gridcolor\":\"white\",\"linecolor\":\"white\",\"ticks\":\"\",\"title\":{\"standoff\":15},\"zerolinecolor\":\"white\",\"automargin\":true,\"zerolinewidth\":2},\"yaxis\":{\"gridcolor\":\"white\",\"linecolor\":\"white\",\"ticks\":\"\",\"title\":{\"standoff\":15},\"zerolinecolor\":\"white\",\"automargin\":true,\"zerolinewidth\":2},\"scene\":{\"xaxis\":{\"backgroundcolor\":\"#E5ECF6\",\"gridcolor\":\"white\",\"linecolor\":\"white\",\"showbackground\":true,\"ticks\":\"\",\"zerolinecolor\":\"white\",\"gridwidth\":2},\"yaxis\":{\"backgroundcolor\":\"#E5ECF6\",\"gridcolor\":\"white\",\"linecolor\":\"white\",\"showbackground\":true,\"ticks\":\"\",\"zerolinecolor\":\"white\",\"gridwidth\":2},\"zaxis\":{\"backgroundcolor\":\"#E5ECF6\",\"gridcolor\":\"white\",\"linecolor\":\"white\",\"showbackground\":true,\"ticks\":\"\",\"zerolinecolor\":\"white\",\"gridwidth\":2}},\"shapedefaults\":{\"line\":{\"color\":\"#2a3f5f\"}},\"annotationdefaults\":{\"arrowcolor\":\"#2a3f5f\",\"arrowhead\":0,\"arrowwidth\":1},\"geo\":{\"bgcolor\":\"white\",\"landcolor\":\"#E5ECF6\",\"subunitcolor\":\"white\",\"showland\":true,\"showlakes\":true,\"lakecolor\":\"white\"},\"title\":{\"x\":0.05},\"mapbox\":{\"style\":\"light\"}}},\"title\":{\"text\":\"Crescimento de vendas por loja entre 2010 e 2012 em valores percentuais\"},\"xaxis\":{\"title\":{\"text\":\"Loja\"}},\"yaxis\":{\"title\":{\"text\":\"Crescimento de vendas (%)\"}}},                        {\"responsive\": true}                    ).then(function(){\n",
              "                            \n",
              "var gd = document.getElementById('1ae723fe-8ae1-4591-be4b-5cb1d172daf3');\n",
              "var x = new MutationObserver(function (mutations, observer) {{\n",
              "        var display = window.getComputedStyle(gd).display;\n",
              "        if (!display || display === 'none') {{\n",
              "            console.log([gd, 'removed!']);\n",
              "            Plotly.purge(gd);\n",
              "            observer.disconnect();\n",
              "        }}\n",
              "}});\n",
              "\n",
              "// Listen for the removal of the full notebook cells\n",
              "var notebookContainer = gd.closest('#notebook-container');\n",
              "if (notebookContainer) {{\n",
              "    x.observe(notebookContainer, {childList: true});\n",
              "}}\n",
              "\n",
              "// Listen for the clearing of the current output cell\n",
              "var outputEl = gd.closest('.output');\n",
              "if (outputEl) {{\n",
              "    x.observe(outputEl, {childList: true});\n",
              "}}\n",
              "\n",
              "                        })                };                            </script>        </div>\n",
              "</body>\n",
              "</html>"
            ]
          },
          "metadata": {}
        }
      ]
    },
    {
      "cell_type": "markdown",
      "source": [
        "# O próximo grafico trata do crescimento no período de 2010 - 2012"
      ],
      "metadata": {
        "id": "fpRIyAlvQ_1n"
      }
    },
    {
      "cell_type": "code",
      "source": [
        "fig = go.Figure()\n",
        "\n",
        "fig.add_trace(go.Scatter(\n",
        "    x=db_grafico['Store'],\n",
        "    y=db_grafico['Sales_2010'],\n",
        "    mode='lines',\n",
        "    name='2010'\n",
        "))\n",
        "\n",
        "fig.add_trace(go.Scatter(\n",
        "    x=db_grafico['Store'],\n",
        "    y=db_grafico['Sales_2011'],\n",
        "    mode='lines',\n",
        "    name='2011'\n",
        "))\n",
        "\n",
        "fig.add_trace(go.Scatter(\n",
        "    x=db_grafico['Store'],\n",
        "    y=db_grafico['Sales_2012'],\n",
        "    mode='lines',\n",
        "    name='2012'\n",
        "))\n",
        "\n",
        "fig.update_layout(\n",
        "    title='Vendas anuais por loja',\n",
        "    xaxis_title='Loja',\n",
        "    yaxis_title='Vendas (em milhões)'\n",
        ")\n",
        "\n",
        "fig.show()"
      ],
      "metadata": {
        "colab": {
          "base_uri": "https://localhost:8080/",
          "height": 542
        },
        "id": "KoqKIHW2xvPK",
        "outputId": "28b5cd6c-5241-4e7d-a48b-cb83618f7131"
      },
      "execution_count": null,
      "outputs": [
        {
          "output_type": "display_data",
          "data": {
            "text/html": [
              "<html>\n",
              "<head><meta charset=\"utf-8\" /></head>\n",
              "<body>\n",
              "    <div>            <script src=\"https://cdnjs.cloudflare.com/ajax/libs/mathjax/2.7.5/MathJax.js?config=TeX-AMS-MML_SVG\"></script><script type=\"text/javascript\">if (window.MathJax && window.MathJax.Hub && window.MathJax.Hub.Config) {window.MathJax.Hub.Config({SVG: {font: \"STIX-Web\"}});}</script>                <script type=\"text/javascript\">window.PlotlyConfig = {MathJaxConfig: 'local'};</script>\n",
              "        <script src=\"https://cdn.plot.ly/plotly-2.18.2.min.js\"></script>                <div id=\"032a7b65-c2c1-4b8c-a9a3-bd331a861219\" class=\"plotly-graph-div\" style=\"height:525px; width:100%;\"></div>            <script type=\"text/javascript\">                                    window.PLOTLYENV=window.PLOTLYENV || {};                                    if (document.getElementById(\"032a7b65-c2c1-4b8c-a9a3-bd331a861219\")) {                    Plotly.newPlot(                        \"032a7b65-c2c1-4b8c-a9a3-bd331a861219\",                        [{\"mode\":\"lines\",\"name\":\"2010\",\"x\":[1,2,3,4,5,6,7,8,9,10,11,12,13,14,15,16,17,18,19,20,21,22,23,24,25,26,27,28,29,30,31,32,33,34,35,36,37,38,39,40,41,42,43,44,45],\"y\":[73278832.0,95277864.19,18745419.0,95680470.81,14836030.77,76912320.69,25568078.15,43204474.839999996,25129219.76,94472202.21,65255138.23,48370383.86,95272735.45,105462242.38,32023528.31,24728632.59,41104920.44,55978417.3,72580528.64,101733080.72,37631108.27,50865280.41,67709105.31,66890648.24,35136267.74,48390697.78,90013176.57,64778764.93,26946827.49,21739086.63,65560272.76,55190936.68,12766834.26,46150416.79,52195970.93,21153125.69,24508469.86,16587794.52,65782276.32,46357359.52,57738220.65,25498089.91,31537005.99,13607519.45,38536343.37],\"type\":\"scatter\"},{\"mode\":\"lines\",\"name\":\"2011\",\"x\":[1,2,3,4,5,6,7,8,9,10,11,12,13,14,15,16,17,18,19,20,21,22,23,24,25,26,27,28,29,30,31,32,33,34,35,36,37,38,39,40,41,42,43,44,45],\"y\":[80921918.83,98607881.42,20816876.57,111092293.33,16470820.0,80528762.95,30662640.52,47512786.16,28685969.65,98916894.74,70523582.89,52582000.57,104537513.33,106096270.7,32282624.9,27421367.49,46391839.76,54217740.11,74841900.18,109837002.36,40234883.94,53554711.93,72273533.79,69938976.87,36434405.72,52049251.72,91922684.19,69156008.58,27950345.2,22182148.41,74169225.52,61347193.48,12957836.67,50360182.06,44086978.63,18972618.75,27081495.77,19940758.45,75777603.3,50340542.93,66715874.31,29117302.669999998,32053195.45,15498194.67,41135367.88],\"type\":\"scatter\"},{\"mode\":\"lines\",\"name\":\"2012\",\"x\":[1,2,3,4,5,6,7,8,9,10,11,12,13,14,15,16,17,18,19,20,21,22,23,24,25,26,27,28,29,30,31,32,33,34,35,36,37,38,39,40,41,42,43,44,45],\"y\":[68202058.02,81496695.37,18024439.5,92771189.24,14168838.129999999,66315047.0,25367556.47,39233920.13,23974029.58,78228616.94,58184065.68,43334845.72,86707455.02,77441398.26,24827530.71,22102425.32,40285378.63,44918576.8,59212433.28,89827709.38,30251886.71,42655656.23,58767978.75,57186396.17,29490505.71,42976444.29,71920056.12,55328907.07,22244381.62,18795650.08,59884407.22,50281116.0,11435551.03,41739164.15,35237722.52,13286470.53,22612774.69,18631073.45,65885662.85,41172407.34,56887839.93,24950359.85,26975233.97,14187373.72,32723630.17],\"type\":\"scatter\"}],                        {\"template\":{\"data\":{\"histogram2dcontour\":[{\"type\":\"histogram2dcontour\",\"colorbar\":{\"outlinewidth\":0,\"ticks\":\"\"},\"colorscale\":[[0.0,\"#0d0887\"],[0.1111111111111111,\"#46039f\"],[0.2222222222222222,\"#7201a8\"],[0.3333333333333333,\"#9c179e\"],[0.4444444444444444,\"#bd3786\"],[0.5555555555555556,\"#d8576b\"],[0.6666666666666666,\"#ed7953\"],[0.7777777777777778,\"#fb9f3a\"],[0.8888888888888888,\"#fdca26\"],[1.0,\"#f0f921\"]]}],\"choropleth\":[{\"type\":\"choropleth\",\"colorbar\":{\"outlinewidth\":0,\"ticks\":\"\"}}],\"histogram2d\":[{\"type\":\"histogram2d\",\"colorbar\":{\"outlinewidth\":0,\"ticks\":\"\"},\"colorscale\":[[0.0,\"#0d0887\"],[0.1111111111111111,\"#46039f\"],[0.2222222222222222,\"#7201a8\"],[0.3333333333333333,\"#9c179e\"],[0.4444444444444444,\"#bd3786\"],[0.5555555555555556,\"#d8576b\"],[0.6666666666666666,\"#ed7953\"],[0.7777777777777778,\"#fb9f3a\"],[0.8888888888888888,\"#fdca26\"],[1.0,\"#f0f921\"]]}],\"heatmap\":[{\"type\":\"heatmap\",\"colorbar\":{\"outlinewidth\":0,\"ticks\":\"\"},\"colorscale\":[[0.0,\"#0d0887\"],[0.1111111111111111,\"#46039f\"],[0.2222222222222222,\"#7201a8\"],[0.3333333333333333,\"#9c179e\"],[0.4444444444444444,\"#bd3786\"],[0.5555555555555556,\"#d8576b\"],[0.6666666666666666,\"#ed7953\"],[0.7777777777777778,\"#fb9f3a\"],[0.8888888888888888,\"#fdca26\"],[1.0,\"#f0f921\"]]}],\"heatmapgl\":[{\"type\":\"heatmapgl\",\"colorbar\":{\"outlinewidth\":0,\"ticks\":\"\"},\"colorscale\":[[0.0,\"#0d0887\"],[0.1111111111111111,\"#46039f\"],[0.2222222222222222,\"#7201a8\"],[0.3333333333333333,\"#9c179e\"],[0.4444444444444444,\"#bd3786\"],[0.5555555555555556,\"#d8576b\"],[0.6666666666666666,\"#ed7953\"],[0.7777777777777778,\"#fb9f3a\"],[0.8888888888888888,\"#fdca26\"],[1.0,\"#f0f921\"]]}],\"contourcarpet\":[{\"type\":\"contourcarpet\",\"colorbar\":{\"outlinewidth\":0,\"ticks\":\"\"}}],\"contour\":[{\"type\":\"contour\",\"colorbar\":{\"outlinewidth\":0,\"ticks\":\"\"},\"colorscale\":[[0.0,\"#0d0887\"],[0.1111111111111111,\"#46039f\"],[0.2222222222222222,\"#7201a8\"],[0.3333333333333333,\"#9c179e\"],[0.4444444444444444,\"#bd3786\"],[0.5555555555555556,\"#d8576b\"],[0.6666666666666666,\"#ed7953\"],[0.7777777777777778,\"#fb9f3a\"],[0.8888888888888888,\"#fdca26\"],[1.0,\"#f0f921\"]]}],\"surface\":[{\"type\":\"surface\",\"colorbar\":{\"outlinewidth\":0,\"ticks\":\"\"},\"colorscale\":[[0.0,\"#0d0887\"],[0.1111111111111111,\"#46039f\"],[0.2222222222222222,\"#7201a8\"],[0.3333333333333333,\"#9c179e\"],[0.4444444444444444,\"#bd3786\"],[0.5555555555555556,\"#d8576b\"],[0.6666666666666666,\"#ed7953\"],[0.7777777777777778,\"#fb9f3a\"],[0.8888888888888888,\"#fdca26\"],[1.0,\"#f0f921\"]]}],\"mesh3d\":[{\"type\":\"mesh3d\",\"colorbar\":{\"outlinewidth\":0,\"ticks\":\"\"}}],\"scatter\":[{\"fillpattern\":{\"fillmode\":\"overlay\",\"size\":10,\"solidity\":0.2},\"type\":\"scatter\"}],\"parcoords\":[{\"type\":\"parcoords\",\"line\":{\"colorbar\":{\"outlinewidth\":0,\"ticks\":\"\"}}}],\"scatterpolargl\":[{\"type\":\"scatterpolargl\",\"marker\":{\"colorbar\":{\"outlinewidth\":0,\"ticks\":\"\"}}}],\"bar\":[{\"error_x\":{\"color\":\"#2a3f5f\"},\"error_y\":{\"color\":\"#2a3f5f\"},\"marker\":{\"line\":{\"color\":\"#E5ECF6\",\"width\":0.5},\"pattern\":{\"fillmode\":\"overlay\",\"size\":10,\"solidity\":0.2}},\"type\":\"bar\"}],\"scattergeo\":[{\"type\":\"scattergeo\",\"marker\":{\"colorbar\":{\"outlinewidth\":0,\"ticks\":\"\"}}}],\"scatterpolar\":[{\"type\":\"scatterpolar\",\"marker\":{\"colorbar\":{\"outlinewidth\":0,\"ticks\":\"\"}}}],\"histogram\":[{\"marker\":{\"pattern\":{\"fillmode\":\"overlay\",\"size\":10,\"solidity\":0.2}},\"type\":\"histogram\"}],\"scattergl\":[{\"type\":\"scattergl\",\"marker\":{\"colorbar\":{\"outlinewidth\":0,\"ticks\":\"\"}}}],\"scatter3d\":[{\"type\":\"scatter3d\",\"line\":{\"colorbar\":{\"outlinewidth\":0,\"ticks\":\"\"}},\"marker\":{\"colorbar\":{\"outlinewidth\":0,\"ticks\":\"\"}}}],\"scattermapbox\":[{\"type\":\"scattermapbox\",\"marker\":{\"colorbar\":{\"outlinewidth\":0,\"ticks\":\"\"}}}],\"scatterternary\":[{\"type\":\"scatterternary\",\"marker\":{\"colorbar\":{\"outlinewidth\":0,\"ticks\":\"\"}}}],\"scattercarpet\":[{\"type\":\"scattercarpet\",\"marker\":{\"colorbar\":{\"outlinewidth\":0,\"ticks\":\"\"}}}],\"carpet\":[{\"aaxis\":{\"endlinecolor\":\"#2a3f5f\",\"gridcolor\":\"white\",\"linecolor\":\"white\",\"minorgridcolor\":\"white\",\"startlinecolor\":\"#2a3f5f\"},\"baxis\":{\"endlinecolor\":\"#2a3f5f\",\"gridcolor\":\"white\",\"linecolor\":\"white\",\"minorgridcolor\":\"white\",\"startlinecolor\":\"#2a3f5f\"},\"type\":\"carpet\"}],\"table\":[{\"cells\":{\"fill\":{\"color\":\"#EBF0F8\"},\"line\":{\"color\":\"white\"}},\"header\":{\"fill\":{\"color\":\"#C8D4E3\"},\"line\":{\"color\":\"white\"}},\"type\":\"table\"}],\"barpolar\":[{\"marker\":{\"line\":{\"color\":\"#E5ECF6\",\"width\":0.5},\"pattern\":{\"fillmode\":\"overlay\",\"size\":10,\"solidity\":0.2}},\"type\":\"barpolar\"}],\"pie\":[{\"automargin\":true,\"type\":\"pie\"}]},\"layout\":{\"autotypenumbers\":\"strict\",\"colorway\":[\"#636efa\",\"#EF553B\",\"#00cc96\",\"#ab63fa\",\"#FFA15A\",\"#19d3f3\",\"#FF6692\",\"#B6E880\",\"#FF97FF\",\"#FECB52\"],\"font\":{\"color\":\"#2a3f5f\"},\"hovermode\":\"closest\",\"hoverlabel\":{\"align\":\"left\"},\"paper_bgcolor\":\"white\",\"plot_bgcolor\":\"#E5ECF6\",\"polar\":{\"bgcolor\":\"#E5ECF6\",\"angularaxis\":{\"gridcolor\":\"white\",\"linecolor\":\"white\",\"ticks\":\"\"},\"radialaxis\":{\"gridcolor\":\"white\",\"linecolor\":\"white\",\"ticks\":\"\"}},\"ternary\":{\"bgcolor\":\"#E5ECF6\",\"aaxis\":{\"gridcolor\":\"white\",\"linecolor\":\"white\",\"ticks\":\"\"},\"baxis\":{\"gridcolor\":\"white\",\"linecolor\":\"white\",\"ticks\":\"\"},\"caxis\":{\"gridcolor\":\"white\",\"linecolor\":\"white\",\"ticks\":\"\"}},\"coloraxis\":{\"colorbar\":{\"outlinewidth\":0,\"ticks\":\"\"}},\"colorscale\":{\"sequential\":[[0.0,\"#0d0887\"],[0.1111111111111111,\"#46039f\"],[0.2222222222222222,\"#7201a8\"],[0.3333333333333333,\"#9c179e\"],[0.4444444444444444,\"#bd3786\"],[0.5555555555555556,\"#d8576b\"],[0.6666666666666666,\"#ed7953\"],[0.7777777777777778,\"#fb9f3a\"],[0.8888888888888888,\"#fdca26\"],[1.0,\"#f0f921\"]],\"sequentialminus\":[[0.0,\"#0d0887\"],[0.1111111111111111,\"#46039f\"],[0.2222222222222222,\"#7201a8\"],[0.3333333333333333,\"#9c179e\"],[0.4444444444444444,\"#bd3786\"],[0.5555555555555556,\"#d8576b\"],[0.6666666666666666,\"#ed7953\"],[0.7777777777777778,\"#fb9f3a\"],[0.8888888888888888,\"#fdca26\"],[1.0,\"#f0f921\"]],\"diverging\":[[0,\"#8e0152\"],[0.1,\"#c51b7d\"],[0.2,\"#de77ae\"],[0.3,\"#f1b6da\"],[0.4,\"#fde0ef\"],[0.5,\"#f7f7f7\"],[0.6,\"#e6f5d0\"],[0.7,\"#b8e186\"],[0.8,\"#7fbc41\"],[0.9,\"#4d9221\"],[1,\"#276419\"]]},\"xaxis\":{\"gridcolor\":\"white\",\"linecolor\":\"white\",\"ticks\":\"\",\"title\":{\"standoff\":15},\"zerolinecolor\":\"white\",\"automargin\":true,\"zerolinewidth\":2},\"yaxis\":{\"gridcolor\":\"white\",\"linecolor\":\"white\",\"ticks\":\"\",\"title\":{\"standoff\":15},\"zerolinecolor\":\"white\",\"automargin\":true,\"zerolinewidth\":2},\"scene\":{\"xaxis\":{\"backgroundcolor\":\"#E5ECF6\",\"gridcolor\":\"white\",\"linecolor\":\"white\",\"showbackground\":true,\"ticks\":\"\",\"zerolinecolor\":\"white\",\"gridwidth\":2},\"yaxis\":{\"backgroundcolor\":\"#E5ECF6\",\"gridcolor\":\"white\",\"linecolor\":\"white\",\"showbackground\":true,\"ticks\":\"\",\"zerolinecolor\":\"white\",\"gridwidth\":2},\"zaxis\":{\"backgroundcolor\":\"#E5ECF6\",\"gridcolor\":\"white\",\"linecolor\":\"white\",\"showbackground\":true,\"ticks\":\"\",\"zerolinecolor\":\"white\",\"gridwidth\":2}},\"shapedefaults\":{\"line\":{\"color\":\"#2a3f5f\"}},\"annotationdefaults\":{\"arrowcolor\":\"#2a3f5f\",\"arrowhead\":0,\"arrowwidth\":1},\"geo\":{\"bgcolor\":\"white\",\"landcolor\":\"#E5ECF6\",\"subunitcolor\":\"white\",\"showland\":true,\"showlakes\":true,\"lakecolor\":\"white\"},\"title\":{\"x\":0.05},\"mapbox\":{\"style\":\"light\"}}},\"title\":{\"text\":\"Vendas anuais por loja\"},\"xaxis\":{\"title\":{\"text\":\"Loja\"}},\"yaxis\":{\"title\":{\"text\":\"Vendas (em milh\\u00f5es)\"}}},                        {\"responsive\": true}                    ).then(function(){\n",
              "                            \n",
              "var gd = document.getElementById('032a7b65-c2c1-4b8c-a9a3-bd331a861219');\n",
              "var x = new MutationObserver(function (mutations, observer) {{\n",
              "        var display = window.getComputedStyle(gd).display;\n",
              "        if (!display || display === 'none') {{\n",
              "            console.log([gd, 'removed!']);\n",
              "            Plotly.purge(gd);\n",
              "            observer.disconnect();\n",
              "        }}\n",
              "}});\n",
              "\n",
              "// Listen for the removal of the full notebook cells\n",
              "var notebookContainer = gd.closest('#notebook-container');\n",
              "if (notebookContainer) {{\n",
              "    x.observe(notebookContainer, {childList: true});\n",
              "}}\n",
              "\n",
              "// Listen for the clearing of the current output cell\n",
              "var outputEl = gd.closest('.output');\n",
              "if (outputEl) {{\n",
              "    x.observe(outputEl, {childList: true});\n",
              "}}\n",
              "\n",
              "                        })                };                            </script>        </div>\n",
              "</body>\n",
              "</html>"
            ]
          },
          "metadata": {}
        }
      ]
    },
    {
      "cell_type": "markdown",
      "source": [
        "##Separados por vendas médias em feriados por ano"
      ],
      "metadata": {
        "id": "UPl2JjRayZiL"
      }
    },
    {
      "cell_type": "code",
      "source": [
        "db_2010f = db_2010.loc[db['Holiday_Flag'] == 1]\n",
        "db_2010f = db_2010f.groupby('Store').agg({'Weekly_Sales': 'mean'})\n",
        "db_2010f  =db_2010f.sort_values(by='Weekly_Sales',ascending=False)\n",
        "db_2010f"
      ],
      "metadata": {
        "id": "bWnAlBhCxMlV"
      },
      "execution_count": null,
      "outputs": []
    },
    {
      "cell_type": "code",
      "source": [
        "db_2011f = db_2011.loc[db['Holiday_Flag'] == 1]\n",
        "db_2011f = db_2011f.groupby('Store').agg({'Weekly_Sales': 'mean'})\n",
        "db_2011f  =db_2011f.sort_values(by='Weekly_Sales',ascending=False)\n",
        "db_2011f"
      ],
      "metadata": {
        "id": "oC2PPHo8xy_C"
      },
      "execution_count": null,
      "outputs": []
    },
    {
      "cell_type": "code",
      "source": [
        "db_2012f = db_2012.loc[db['Holiday_Flag'] == 1]\n",
        "db_2012f = db_2011f.groupby('Store').agg({'Weekly_Sales': 'mean'})\n",
        "db_2012f  =db_2011f.sort_values(by='Weekly_Sales',ascending=False)\n",
        "db_2012f"
      ],
      "metadata": {
        "id": "LniJ3A8ayJ_F"
      },
      "execution_count": null,
      "outputs": []
    },
    {
      "cell_type": "markdown",
      "source": [
        "##Separados por vendas médias dias normais por ano"
      ],
      "metadata": {
        "id": "eI9P2EYayXVl"
      }
    },
    {
      "cell_type": "code",
      "source": [
        "db_2010n = db_2010.loc[db['Holiday_Flag'] == 0]\n",
        "db_2010n = db_2010n.groupby('Store').agg({'Weekly_Sales': 'mean'})\n",
        "db_2010n  =db_2010n.sort_values(by='Weekly_Sales',ascending=False)\n",
        "db_2010n"
      ],
      "metadata": {
        "id": "4eMbzPwMyx2V"
      },
      "execution_count": null,
      "outputs": []
    },
    {
      "cell_type": "code",
      "source": [
        "db_2010n = db_2010.loc[db['Holiday_Flag'] == 0]\n",
        "db_2010n = db_2010n.groupby('Store').agg({'Weekly_Sales': 'sum'})\n",
        "db_2010n  =db_2010n.sort_values(by='Weekly_Sales',ascending=False)\n",
        "db_2010n"
      ],
      "metadata": {
        "id": "3L1wYQp7zen0"
      },
      "execution_count": null,
      "outputs": []
    },
    {
      "cell_type": "code",
      "source": [
        "db_2011n = db_2011.loc[db['Holiday_Flag'] == 0]\n",
        "db_2011n = db_2011n.groupby('Store').agg({'Weekly_Sales': 'mean'})\n",
        "db_2011n  =db_2011n.sort_values(by='Weekly_Sales',ascending=False)\n",
        "db_2011n"
      ],
      "metadata": {
        "id": "hK4z9nizzChm"
      },
      "execution_count": null,
      "outputs": []
    },
    {
      "cell_type": "code",
      "source": [
        "db_2011n = db_2011.loc[db['Holiday_Flag'] == 0]\n",
        "db_2011n = db_2011n.groupby('Store').agg({'Weekly_Sales': 'sum'})\n",
        "db_2011n  =db_2011n.sort_values(by='Weekly_Sales',ascending=False)\n",
        "db_2011n"
      ],
      "metadata": {
        "id": "ofqGiqPhzo8F"
      },
      "execution_count": null,
      "outputs": []
    },
    {
      "cell_type": "code",
      "source": [
        "db_2012n = db_2012.loc[db['Holiday_Flag'] == 0]\n",
        "db_2012n = db_2012n.groupby('Store').agg({'Weekly_Sales': 'mean'})\n",
        "db_2012n  =db_2012n.sort_values(by='Weekly_Sales',ascending=False)\n",
        "db_2012n"
      ],
      "metadata": {
        "id": "ddE9GspVzRJE"
      },
      "execution_count": null,
      "outputs": []
    },
    {
      "cell_type": "code",
      "source": [
        "db_2012n = db_2012.loc[db['Holiday_Flag'] == 0]\n",
        "db_2012n = db_2012n.groupby('Store').agg({'Weekly_Sales': 'sum'})\n",
        "db_2012n  =db_2012n.sort_values(by='Weekly_Sales',ascending=False)\n",
        "db_2012n"
      ],
      "metadata": {
        "id": "ZxfxIsbLz2Hs"
      },
      "execution_count": null,
      "outputs": []
    },
    {
      "cell_type": "code",
      "source": [
        "db_2010"
      ],
      "metadata": {
        "id": "z2SML7coaTBU"
      },
      "execution_count": null,
      "outputs": []
    },
    {
      "cell_type": "code",
      "source": [
        "db2010_media = db_2010.groupby('Store').agg({'Weekly_Sales': 'mean'})\n",
        "db2010_media  =db2010_media.sort_values(by='Weekly_Sales',ascending=False)\n",
        "db2010_media\n"
      ],
      "metadata": {
        "id": "a64R0H8NbyvI"
      },
      "execution_count": null,
      "outputs": []
    },
    {
      "cell_type": "code",
      "source": [
        "db2011_media = db_2011.groupby('Store').agg({'Weekly_Sales': 'mean'})\n",
        "db2011_media  =db2011_media.sort_values(by='Weekly_Sales',ascending=False)\n",
        "db2011_media"
      ],
      "metadata": {
        "id": "eVPM3u3BwBc9"
      },
      "execution_count": null,
      "outputs": []
    },
    {
      "cell_type": "code",
      "source": [
        "db2012_media = db_2012.groupby('Store').agg({'Weekly_Sales': 'mean'})\n",
        "db2012_media  =db2012_media.sort_values(by='Weekly_Sales',ascending=False)\n",
        "db2012_media"
      ],
      "metadata": {
        "id": "-tyWg3ZwwOds"
      },
      "execution_count": null,
      "outputs": []
    },
    {
      "cell_type": "markdown",
      "source": [
        "## Ranking de crescimento das lojas"
      ],
      "metadata": {
        "id": "xi9iTeEqCfnq"
      }
    },
    {
      "cell_type": "code",
      "source": [
        "media_vendas = db.groupby('Store')['Weekly_Sales'].mean().sort_values(ascending=False)\n",
        "media_vendas"
      ],
      "metadata": {
        "id": "cwQA0_RLiVWv"
      },
      "execution_count": null,
      "outputs": []
    },
    {
      "cell_type": "code",
      "source": [
        "db_vendas_por_ano = db.groupby(['Store', 'Year'])['Weekly_Sales'].sum().reset_index()\n",
        "db_vendas_por_ano['Crescimento'] = db_vendas_por_ano.groupby('Store')['Weekly_Sales'].pct_change()\n",
        "db_vendas_por_ano\n"
      ],
      "metadata": {
        "id": "9o92BNAfnViW"
      },
      "execution_count": null,
      "outputs": []
    },
    {
      "cell_type": "markdown",
      "source": [
        "Foi necessário achar uma forma para classificar uma loja em potencial, sendo usado o critério de pontuação de vendas semanais e crescimento das vendas\n",
        "\n",
        " Essa pontuação é utilizada para criar um ranking das lojas e identificar quais são as mais bem-sucedidas nesses critérios."
      ],
      "metadata": {
        "id": "P_lb97meYJi1"
      }
    },
    {
      "cell_type": "code",
      "source": [
        "media_vendas = db.groupby('Store')['Weekly_Sales'].mean().sort_values(ascending=False)\n",
        "db_vendas_por_ano = db.groupby(['Store', 'Year'])['Weekly_Sales'].sum().reset_index()\n",
        "db_vendas_por_ano['Crescimento'] = db_vendas_por_ano.groupby('Store')['Weekly_Sales'].pct_change()\n",
        "db_ranking = media_vendas.to_frame().reset_index()\n",
        "db_ranking = db_ranking.merge(db_vendas_por_ano.groupby('Store')['Crescimento'].mean().to_frame(), on='Store')\n",
        "db_ranking['Pontuacao'] = db_ranking['Weekly_Sales'] * 0.7 + db_ranking['Crescimento'] * 0.3\n",
        "db_ranking = db_ranking.sort_values('Crescimento', ascending=False)\n",
        "db_ranking"
      ],
      "metadata": {
        "colab": {
          "base_uri": "https://localhost:8080/",
          "height": 1000
        },
        "id": "z2VhG2Gen22f",
        "outputId": "4de071cd-9b58-45ba-91f4-f99009214d3c"
      },
      "execution_count": null,
      "outputs": [
        {
          "output_type": "execute_result",
          "data": {
            "text/plain": [
              "    Store  Weekly_Sales  Crescimento     Pontuacao\n",
              "40     38  3.857317e+05     0.068228  2.700122e+05\n",
              "43     44  3.027489e+05     0.027182  2.119242e+05\n",
              "32      7  5.706173e+05     0.013283  3.994321e+05\n",
              "9      39  1.450668e+06     0.010703  1.015468e+06\n",
              "16     41  1.268125e+06     0.004089  8.876878e+05\n",
              "33     42  5.564039e+05    -0.000584  3.894827e+05\n",
              "26     17  8.935814e+05    -0.001504  6.255070e+05\n",
              "1       4  2.094713e+06    -0.001921  1.466299e+06\n",
              "34      9  5.439806e+05    -0.011360  3.807864e+05\n",
              "39      3  4.027044e+05    -0.011819  2.818931e+05\n",
              "42      5  3.180118e+05    -0.014785  2.226083e+05\n",
              "8       1  1.555264e+06    -0.026443  1.088685e+06\n",
              "37     37  5.189003e+05    -0.030012  3.632302e+05\n",
              "11     31  1.395901e+06    -0.030642  9.771310e+05\n",
              "17     32  1.166568e+06    -0.034420  8.165977e+05\n",
              "3      13  2.003620e+06    -0.036658  1.402534e+06\n",
              "25      8  9.087495e+05    -0.037263  6.361247e+05\n",
              "22     34  9.667816e+05    -0.039984  6.767471e+05\n",
              "36     16  5.192477e+05    -0.042540  3.634734e+05\n",
              "20     12  1.009002e+06    -0.044396  7.063011e+05\n",
              "14     11  1.356383e+06    -0.047117  9.494682e+05\n",
              "23     40  9.641280e+05    -0.048099  6.748896e+05\n",
              "21     26  1.002912e+06    -0.049354  7.020383e+05\n",
              "0      20  2.107677e+06    -0.051257  1.475374e+06\n",
              "44     33  2.598617e+05    -0.051260  1.819032e+05\n",
              "12     23  1.389864e+06    -0.059727  9.729051e+05\n",
              "7       6  1.564728e+06    -0.064742  1.095310e+06\n",
              "38     30  4.385796e+05    -0.066143  3.070057e+05\n",
              "15     28  1.323522e+06    -0.066184  9.264655e+05\n",
              "13     24  1.356755e+06    -0.068383  9.497288e+05\n",
              "27     45  7.859814e+05    -0.068523  5.501870e+05\n",
              "4       2  1.925751e+06    -0.069288  1.348026e+06\n",
              "30     43  6.333247e+05    -0.071028  4.433273e+05\n",
              "19     22  1.028501e+06    -0.075319  7.199507e+05\n",
              "29     25  7.067215e+05    -0.076820  4.947050e+05\n",
              "5      10  1.899425e+06    -0.081050  1.329597e+06\n",
              "35     29  5.394514e+05    -0.083453  3.776160e+05\n",
              "10     19  1.444999e+06    -0.088838  1.011499e+06\n",
              "28     21  7.560691e+05    -0.089463  5.292483e+05\n",
              "6      27  1.775216e+06    -0.098195  1.242651e+06\n",
              "18     18  1.084718e+06    -0.101484  7.593029e+05\n",
              "31     15  6.233125e+05    -0.111421  4.363187e+05\n",
              "2      14  2.020978e+06    -0.132036  1.414685e+06\n",
              "24     35  9.197250e+05    -0.178040  6.438074e+05\n",
              "41     36  3.735120e+05    -0.201392  2.614583e+05"
            ],
            "text/html": [
              "\n",
              "  <div id=\"df-50dc3fd6-869d-4e61-8999-a1dc1d26cb1d\">\n",
              "    <div class=\"colab-df-container\">\n",
              "      <div>\n",
              "<style scoped>\n",
              "    .dataframe tbody tr th:only-of-type {\n",
              "        vertical-align: middle;\n",
              "    }\n",
              "\n",
              "    .dataframe tbody tr th {\n",
              "        vertical-align: top;\n",
              "    }\n",
              "\n",
              "    .dataframe thead th {\n",
              "        text-align: right;\n",
              "    }\n",
              "</style>\n",
              "<table border=\"1\" class=\"dataframe\">\n",
              "  <thead>\n",
              "    <tr style=\"text-align: right;\">\n",
              "      <th></th>\n",
              "      <th>Store</th>\n",
              "      <th>Weekly_Sales</th>\n",
              "      <th>Crescimento</th>\n",
              "      <th>Pontuacao</th>\n",
              "    </tr>\n",
              "  </thead>\n",
              "  <tbody>\n",
              "    <tr>\n",
              "      <th>40</th>\n",
              "      <td>38</td>\n",
              "      <td>3.857317e+05</td>\n",
              "      <td>0.068228</td>\n",
              "      <td>2.700122e+05</td>\n",
              "    </tr>\n",
              "    <tr>\n",
              "      <th>43</th>\n",
              "      <td>44</td>\n",
              "      <td>3.027489e+05</td>\n",
              "      <td>0.027182</td>\n",
              "      <td>2.119242e+05</td>\n",
              "    </tr>\n",
              "    <tr>\n",
              "      <th>32</th>\n",
              "      <td>7</td>\n",
              "      <td>5.706173e+05</td>\n",
              "      <td>0.013283</td>\n",
              "      <td>3.994321e+05</td>\n",
              "    </tr>\n",
              "    <tr>\n",
              "      <th>9</th>\n",
              "      <td>39</td>\n",
              "      <td>1.450668e+06</td>\n",
              "      <td>0.010703</td>\n",
              "      <td>1.015468e+06</td>\n",
              "    </tr>\n",
              "    <tr>\n",
              "      <th>16</th>\n",
              "      <td>41</td>\n",
              "      <td>1.268125e+06</td>\n",
              "      <td>0.004089</td>\n",
              "      <td>8.876878e+05</td>\n",
              "    </tr>\n",
              "    <tr>\n",
              "      <th>33</th>\n",
              "      <td>42</td>\n",
              "      <td>5.564039e+05</td>\n",
              "      <td>-0.000584</td>\n",
              "      <td>3.894827e+05</td>\n",
              "    </tr>\n",
              "    <tr>\n",
              "      <th>26</th>\n",
              "      <td>17</td>\n",
              "      <td>8.935814e+05</td>\n",
              "      <td>-0.001504</td>\n",
              "      <td>6.255070e+05</td>\n",
              "    </tr>\n",
              "    <tr>\n",
              "      <th>1</th>\n",
              "      <td>4</td>\n",
              "      <td>2.094713e+06</td>\n",
              "      <td>-0.001921</td>\n",
              "      <td>1.466299e+06</td>\n",
              "    </tr>\n",
              "    <tr>\n",
              "      <th>34</th>\n",
              "      <td>9</td>\n",
              "      <td>5.439806e+05</td>\n",
              "      <td>-0.011360</td>\n",
              "      <td>3.807864e+05</td>\n",
              "    </tr>\n",
              "    <tr>\n",
              "      <th>39</th>\n",
              "      <td>3</td>\n",
              "      <td>4.027044e+05</td>\n",
              "      <td>-0.011819</td>\n",
              "      <td>2.818931e+05</td>\n",
              "    </tr>\n",
              "    <tr>\n",
              "      <th>42</th>\n",
              "      <td>5</td>\n",
              "      <td>3.180118e+05</td>\n",
              "      <td>-0.014785</td>\n",
              "      <td>2.226083e+05</td>\n",
              "    </tr>\n",
              "    <tr>\n",
              "      <th>8</th>\n",
              "      <td>1</td>\n",
              "      <td>1.555264e+06</td>\n",
              "      <td>-0.026443</td>\n",
              "      <td>1.088685e+06</td>\n",
              "    </tr>\n",
              "    <tr>\n",
              "      <th>37</th>\n",
              "      <td>37</td>\n",
              "      <td>5.189003e+05</td>\n",
              "      <td>-0.030012</td>\n",
              "      <td>3.632302e+05</td>\n",
              "    </tr>\n",
              "    <tr>\n",
              "      <th>11</th>\n",
              "      <td>31</td>\n",
              "      <td>1.395901e+06</td>\n",
              "      <td>-0.030642</td>\n",
              "      <td>9.771310e+05</td>\n",
              "    </tr>\n",
              "    <tr>\n",
              "      <th>17</th>\n",
              "      <td>32</td>\n",
              "      <td>1.166568e+06</td>\n",
              "      <td>-0.034420</td>\n",
              "      <td>8.165977e+05</td>\n",
              "    </tr>\n",
              "    <tr>\n",
              "      <th>3</th>\n",
              "      <td>13</td>\n",
              "      <td>2.003620e+06</td>\n",
              "      <td>-0.036658</td>\n",
              "      <td>1.402534e+06</td>\n",
              "    </tr>\n",
              "    <tr>\n",
              "      <th>25</th>\n",
              "      <td>8</td>\n",
              "      <td>9.087495e+05</td>\n",
              "      <td>-0.037263</td>\n",
              "      <td>6.361247e+05</td>\n",
              "    </tr>\n",
              "    <tr>\n",
              "      <th>22</th>\n",
              "      <td>34</td>\n",
              "      <td>9.667816e+05</td>\n",
              "      <td>-0.039984</td>\n",
              "      <td>6.767471e+05</td>\n",
              "    </tr>\n",
              "    <tr>\n",
              "      <th>36</th>\n",
              "      <td>16</td>\n",
              "      <td>5.192477e+05</td>\n",
              "      <td>-0.042540</td>\n",
              "      <td>3.634734e+05</td>\n",
              "    </tr>\n",
              "    <tr>\n",
              "      <th>20</th>\n",
              "      <td>12</td>\n",
              "      <td>1.009002e+06</td>\n",
              "      <td>-0.044396</td>\n",
              "      <td>7.063011e+05</td>\n",
              "    </tr>\n",
              "    <tr>\n",
              "      <th>14</th>\n",
              "      <td>11</td>\n",
              "      <td>1.356383e+06</td>\n",
              "      <td>-0.047117</td>\n",
              "      <td>9.494682e+05</td>\n",
              "    </tr>\n",
              "    <tr>\n",
              "      <th>23</th>\n",
              "      <td>40</td>\n",
              "      <td>9.641280e+05</td>\n",
              "      <td>-0.048099</td>\n",
              "      <td>6.748896e+05</td>\n",
              "    </tr>\n",
              "    <tr>\n",
              "      <th>21</th>\n",
              "      <td>26</td>\n",
              "      <td>1.002912e+06</td>\n",
              "      <td>-0.049354</td>\n",
              "      <td>7.020383e+05</td>\n",
              "    </tr>\n",
              "    <tr>\n",
              "      <th>0</th>\n",
              "      <td>20</td>\n",
              "      <td>2.107677e+06</td>\n",
              "      <td>-0.051257</td>\n",
              "      <td>1.475374e+06</td>\n",
              "    </tr>\n",
              "    <tr>\n",
              "      <th>44</th>\n",
              "      <td>33</td>\n",
              "      <td>2.598617e+05</td>\n",
              "      <td>-0.051260</td>\n",
              "      <td>1.819032e+05</td>\n",
              "    </tr>\n",
              "    <tr>\n",
              "      <th>12</th>\n",
              "      <td>23</td>\n",
              "      <td>1.389864e+06</td>\n",
              "      <td>-0.059727</td>\n",
              "      <td>9.729051e+05</td>\n",
              "    </tr>\n",
              "    <tr>\n",
              "      <th>7</th>\n",
              "      <td>6</td>\n",
              "      <td>1.564728e+06</td>\n",
              "      <td>-0.064742</td>\n",
              "      <td>1.095310e+06</td>\n",
              "    </tr>\n",
              "    <tr>\n",
              "      <th>38</th>\n",
              "      <td>30</td>\n",
              "      <td>4.385796e+05</td>\n",
              "      <td>-0.066143</td>\n",
              "      <td>3.070057e+05</td>\n",
              "    </tr>\n",
              "    <tr>\n",
              "      <th>15</th>\n",
              "      <td>28</td>\n",
              "      <td>1.323522e+06</td>\n",
              "      <td>-0.066184</td>\n",
              "      <td>9.264655e+05</td>\n",
              "    </tr>\n",
              "    <tr>\n",
              "      <th>13</th>\n",
              "      <td>24</td>\n",
              "      <td>1.356755e+06</td>\n",
              "      <td>-0.068383</td>\n",
              "      <td>9.497288e+05</td>\n",
              "    </tr>\n",
              "    <tr>\n",
              "      <th>27</th>\n",
              "      <td>45</td>\n",
              "      <td>7.859814e+05</td>\n",
              "      <td>-0.068523</td>\n",
              "      <td>5.501870e+05</td>\n",
              "    </tr>\n",
              "    <tr>\n",
              "      <th>4</th>\n",
              "      <td>2</td>\n",
              "      <td>1.925751e+06</td>\n",
              "      <td>-0.069288</td>\n",
              "      <td>1.348026e+06</td>\n",
              "    </tr>\n",
              "    <tr>\n",
              "      <th>30</th>\n",
              "      <td>43</td>\n",
              "      <td>6.333247e+05</td>\n",
              "      <td>-0.071028</td>\n",
              "      <td>4.433273e+05</td>\n",
              "    </tr>\n",
              "    <tr>\n",
              "      <th>19</th>\n",
              "      <td>22</td>\n",
              "      <td>1.028501e+06</td>\n",
              "      <td>-0.075319</td>\n",
              "      <td>7.199507e+05</td>\n",
              "    </tr>\n",
              "    <tr>\n",
              "      <th>29</th>\n",
              "      <td>25</td>\n",
              "      <td>7.067215e+05</td>\n",
              "      <td>-0.076820</td>\n",
              "      <td>4.947050e+05</td>\n",
              "    </tr>\n",
              "    <tr>\n",
              "      <th>5</th>\n",
              "      <td>10</td>\n",
              "      <td>1.899425e+06</td>\n",
              "      <td>-0.081050</td>\n",
              "      <td>1.329597e+06</td>\n",
              "    </tr>\n",
              "    <tr>\n",
              "      <th>35</th>\n",
              "      <td>29</td>\n",
              "      <td>5.394514e+05</td>\n",
              "      <td>-0.083453</td>\n",
              "      <td>3.776160e+05</td>\n",
              "    </tr>\n",
              "    <tr>\n",
              "      <th>10</th>\n",
              "      <td>19</td>\n",
              "      <td>1.444999e+06</td>\n",
              "      <td>-0.088838</td>\n",
              "      <td>1.011499e+06</td>\n",
              "    </tr>\n",
              "    <tr>\n",
              "      <th>28</th>\n",
              "      <td>21</td>\n",
              "      <td>7.560691e+05</td>\n",
              "      <td>-0.089463</td>\n",
              "      <td>5.292483e+05</td>\n",
              "    </tr>\n",
              "    <tr>\n",
              "      <th>6</th>\n",
              "      <td>27</td>\n",
              "      <td>1.775216e+06</td>\n",
              "      <td>-0.098195</td>\n",
              "      <td>1.242651e+06</td>\n",
              "    </tr>\n",
              "    <tr>\n",
              "      <th>18</th>\n",
              "      <td>18</td>\n",
              "      <td>1.084718e+06</td>\n",
              "      <td>-0.101484</td>\n",
              "      <td>7.593029e+05</td>\n",
              "    </tr>\n",
              "    <tr>\n",
              "      <th>31</th>\n",
              "      <td>15</td>\n",
              "      <td>6.233125e+05</td>\n",
              "      <td>-0.111421</td>\n",
              "      <td>4.363187e+05</td>\n",
              "    </tr>\n",
              "    <tr>\n",
              "      <th>2</th>\n",
              "      <td>14</td>\n",
              "      <td>2.020978e+06</td>\n",
              "      <td>-0.132036</td>\n",
              "      <td>1.414685e+06</td>\n",
              "    </tr>\n",
              "    <tr>\n",
              "      <th>24</th>\n",
              "      <td>35</td>\n",
              "      <td>9.197250e+05</td>\n",
              "      <td>-0.178040</td>\n",
              "      <td>6.438074e+05</td>\n",
              "    </tr>\n",
              "    <tr>\n",
              "      <th>41</th>\n",
              "      <td>36</td>\n",
              "      <td>3.735120e+05</td>\n",
              "      <td>-0.201392</td>\n",
              "      <td>2.614583e+05</td>\n",
              "    </tr>\n",
              "  </tbody>\n",
              "</table>\n",
              "</div>\n",
              "      <button class=\"colab-df-convert\" onclick=\"convertToInteractive('df-50dc3fd6-869d-4e61-8999-a1dc1d26cb1d')\"\n",
              "              title=\"Convert this dataframe to an interactive table.\"\n",
              "              style=\"display:none;\">\n",
              "        \n",
              "  <svg xmlns=\"http://www.w3.org/2000/svg\" height=\"24px\"viewBox=\"0 0 24 24\"\n",
              "       width=\"24px\">\n",
              "    <path d=\"M0 0h24v24H0V0z\" fill=\"none\"/>\n",
              "    <path d=\"M18.56 5.44l.94 2.06.94-2.06 2.06-.94-2.06-.94-.94-2.06-.94 2.06-2.06.94zm-11 1L8.5 8.5l.94-2.06 2.06-.94-2.06-.94L8.5 2.5l-.94 2.06-2.06.94zm10 10l.94 2.06.94-2.06 2.06-.94-2.06-.94-.94-2.06-.94 2.06-2.06.94z\"/><path d=\"M17.41 7.96l-1.37-1.37c-.4-.4-.92-.59-1.43-.59-.52 0-1.04.2-1.43.59L10.3 9.45l-7.72 7.72c-.78.78-.78 2.05 0 2.83L4 21.41c.39.39.9.59 1.41.59.51 0 1.02-.2 1.41-.59l7.78-7.78 2.81-2.81c.8-.78.8-2.07 0-2.86zM5.41 20L4 18.59l7.72-7.72 1.47 1.35L5.41 20z\"/>\n",
              "  </svg>\n",
              "      </button>\n",
              "      \n",
              "  <style>\n",
              "    .colab-df-container {\n",
              "      display:flex;\n",
              "      flex-wrap:wrap;\n",
              "      gap: 12px;\n",
              "    }\n",
              "\n",
              "    .colab-df-convert {\n",
              "      background-color: #E8F0FE;\n",
              "      border: none;\n",
              "      border-radius: 50%;\n",
              "      cursor: pointer;\n",
              "      display: none;\n",
              "      fill: #1967D2;\n",
              "      height: 32px;\n",
              "      padding: 0 0 0 0;\n",
              "      width: 32px;\n",
              "    }\n",
              "\n",
              "    .colab-df-convert:hover {\n",
              "      background-color: #E2EBFA;\n",
              "      box-shadow: 0px 1px 2px rgba(60, 64, 67, 0.3), 0px 1px 3px 1px rgba(60, 64, 67, 0.15);\n",
              "      fill: #174EA6;\n",
              "    }\n",
              "\n",
              "    [theme=dark] .colab-df-convert {\n",
              "      background-color: #3B4455;\n",
              "      fill: #D2E3FC;\n",
              "    }\n",
              "\n",
              "    [theme=dark] .colab-df-convert:hover {\n",
              "      background-color: #434B5C;\n",
              "      box-shadow: 0px 1px 3px 1px rgba(0, 0, 0, 0.15);\n",
              "      filter: drop-shadow(0px 1px 2px rgba(0, 0, 0, 0.3));\n",
              "      fill: #FFFFFF;\n",
              "    }\n",
              "  </style>\n",
              "\n",
              "      <script>\n",
              "        const buttonEl =\n",
              "          document.querySelector('#df-50dc3fd6-869d-4e61-8999-a1dc1d26cb1d button.colab-df-convert');\n",
              "        buttonEl.style.display =\n",
              "          google.colab.kernel.accessAllowed ? 'block' : 'none';\n",
              "\n",
              "        async function convertToInteractive(key) {\n",
              "          const element = document.querySelector('#df-50dc3fd6-869d-4e61-8999-a1dc1d26cb1d');\n",
              "          const dataTable =\n",
              "            await google.colab.kernel.invokeFunction('convertToInteractive',\n",
              "                                                     [key], {});\n",
              "          if (!dataTable) return;\n",
              "\n",
              "          const docLinkHtml = 'Like what you see? Visit the ' +\n",
              "            '<a target=\"_blank\" href=https://colab.research.google.com/notebooks/data_table.ipynb>data table notebook</a>'\n",
              "            + ' to learn more about interactive tables.';\n",
              "          element.innerHTML = '';\n",
              "          dataTable['output_type'] = 'display_data';\n",
              "          await google.colab.output.renderOutput(dataTable, element);\n",
              "          const docLink = document.createElement('div');\n",
              "          docLink.innerHTML = docLinkHtml;\n",
              "          element.appendChild(docLink);\n",
              "        }\n",
              "      </script>\n",
              "    </div>\n",
              "  </div>\n",
              "  "
            ]
          },
          "metadata": {},
          "execution_count": 70
        }
      ]
    },
    {
      "cell_type": "code",
      "source": [
        "import plotly.graph_objs as go\n",
        "\n",
        "# Agrupar os dados por loja e somar as vendas semanais\n",
        "sales_by_store = db.groupby('Store')['Weekly_Sales'].sum().reset_index()\n",
        "\n",
        "# Criar um gráfico de barras\n",
        "fig = go.Figure()\n",
        "fig.add_trace(go.Bar(x=sales_by_store['Store'], y=sales_by_store['Weekly_Sales']))\n",
        "\n",
        "# Adicionar título e labels dos eixos\n",
        "fig.update_layout(title='Vendas totais por loja',\n",
        "                  xaxis_title='Loja',\n",
        "                  yaxis_title='Vendas totais')\n",
        "\n",
        "# Mostrar o gráfico\n",
        "fig.show()"
      ],
      "metadata": {
        "id": "Nllsx5ZOp2nO"
      },
      "execution_count": null,
      "outputs": []
    },
    {
      "cell_type": "code",
      "source": [
        "import plotly.graph_objects as go\n",
        "\n",
        "# Criando o gráfico de barras\n",
        "fig4 = go.Figure()\n",
        "\n",
        "fig4.add_trace(go.Bar(\n",
        "    x=db_ranking['Store'],\n",
        "    y=db_ranking['Weekly_Sales'],\n",
        "    name='Vendas Semanais',\n",
        "    marker_color='#1f77b4'\n",
        "))\n",
        "\n",
        "fig4.add_trace(go.Bar(\n",
        "    x=db_ranking['Store'],\n",
        "    y=db_ranking['Crescimento'],\n",
        "    name='Crescimento',\n",
        "    marker_color='#ff7f0e'\n",
        "))\n",
        "\n",
        "fig4.add_trace(go.Bar(\n",
        "    x=db_ranking['Store'],\n",
        "    y=db_ranking['Pontuacao'],\n",
        "    name='Pontuação',\n",
        "    marker_color='#2ca02c'\n",
        "))\n",
        "\n",
        "# Adicionando as legendas e título do gráfico\n",
        "fig4.update_layout(\n",
        "    title='Vendas Semanais, Crescimento e Pontuação por Loja',\n",
        "    xaxis_title='Lojas',\n",
        "    yaxis_title='Valores',\n",
        "    legend_title='Indicadores',\n",
        "    barmode='group',\n",
        "    bargap=0.15,\n",
        "    bargroupgap=0.1,\n",
        "    showlegend=True\n",
        ")\n",
        "\n",
        "# Exibindo o gráfico\n",
        "fig4.show()\n"
      ],
      "metadata": {
        "colab": {
          "base_uri": "https://localhost:8080/",
          "height": 542
        },
        "id": "EiXDPLrzTtKe",
        "outputId": "1ce79547-0235-4b21-9a93-54955a8c8cb4"
      },
      "execution_count": null,
      "outputs": [
        {
          "output_type": "display_data",
          "data": {
            "text/html": [
              "<html>\n",
              "<head><meta charset=\"utf-8\" /></head>\n",
              "<body>\n",
              "    <div>            <script src=\"https://cdnjs.cloudflare.com/ajax/libs/mathjax/2.7.5/MathJax.js?config=TeX-AMS-MML_SVG\"></script><script type=\"text/javascript\">if (window.MathJax && window.MathJax.Hub && window.MathJax.Hub.Config) {window.MathJax.Hub.Config({SVG: {font: \"STIX-Web\"}});}</script>                <script type=\"text/javascript\">window.PlotlyConfig = {MathJaxConfig: 'local'};</script>\n",
              "        <script src=\"https://cdn.plot.ly/plotly-2.18.2.min.js\"></script>                <div id=\"95a2be1f-a045-484a-be08-b1ed1ef2f57c\" class=\"plotly-graph-div\" style=\"height:525px; width:100%;\"></div>            <script type=\"text/javascript\">                                    window.PLOTLYENV=window.PLOTLYENV || {};                                    if (document.getElementById(\"95a2be1f-a045-484a-be08-b1ed1ef2f57c\")) {                    Plotly.newPlot(                        \"95a2be1f-a045-484a-be08-b1ed1ef2f57c\",                        [{\"marker\":{\"color\":\"#1f77b4\"},\"name\":\"Vendas Semanais\",\"x\":[38,44,7,39,41,42,17,4,9,3,5,1,37,31,32,13,8,34,16,12,11,40,26,20,33,23,6,30,28,24,45,2,43,22,25,10,29,19,21,27,18,15,14,35,36],\"y\":[385731.6532867133,302748.86601398606,570617.3086713287,1450668.1291608391,1268125.418811189,556403.863146853,893581.3904195804,2094712.9606993007,543980.5523776223,402704.44104895106,318011.8104895105,1555264.3975524476,518900.2819580419,1395901.437062937,1166568.154965035,2003620.3062937064,908749.5183916084,966781.5594405595,519247.7300699301,1009001.6094405595,1356383.1244755245,964128.0404895104,1002911.8446853146,2107676.8703496503,259861.69202797202,1389864.4604895106,1564728.1862937063,438579.6162237762,1323522.241818182,1356755.3935664336,785981.4085314686,1925751.3355244757,633324.7231468532,1028501.0389510489,706721.5326573426,1899424.5726573425,539451.4287412588,1444999.0356643356,756069.0833566433,1775216.2019580419,1084718.421048951,623312.474965035,2020978.4009790209,919724.9795804196,373511.9927972028],\"type\":\"bar\"},{\"marker\":{\"color\":\"#ff7f0e\"},\"name\":\"Crescimento\",\"x\":[38,44,7,39,41,42,17,4,9,3,5,1,37,31,32,13,8,34,16,12,11,40,26,20,33,23,6,30,28,24,45,2,43,22,25,10,29,19,21,27,18,15,14,35,36],\"y\":[0.0682278032851672,0.02718223507242168,0.0132831733768084,0.010703244388218403,0.004088569408078835,-0.0005841377437235673,-0.0015039032191566104,-0.0019209597612093732,-0.011360491772493098,-0.01181910329582092,-0.014785373268398128,-0.026442706562771645,-0.030012478216180583,-0.030642043785685358,-0.034419853511401255,-0.03665827096743429,-0.03726295668517299,-0.03998441424442395,-0.042539666460662706,-0.04439572457528229,-0.04711699732005259,-0.04809943547334844,-0.04935373921799313,-0.051256969416328846,-0.05125954700810309,-0.05972745037573235,-0.0647422549422979,-0.06614342545829033,-0.06618425546272588,-0.06838342947118076,-0.06852285846699141,-0.06928849179251018,-0.07102760118131618,-0.07531946217621482,-0.07682026310333545,-0.08105022450791649,-0.08345289069228856,-0.08883819356400263,-0.08946292533078021,-0.09819454790351428,-0.1014839633161162,-0.11142063754913983,-0.13203589636612167,-0.17803967119477487,-0.201392443478574],\"type\":\"bar\"},{\"marker\":{\"color\":\"#2ca02c\"},\"name\":\"Pontua\\u00e7\\u00e3o\",\"x\":[38,44,7,39,41,42,17,4,9,3,5,1,37,31,32,13,8,34,16,12,11,40,26,20,33,23,6,30,28,24,45,2,43,22,25,10,29,19,21,27,18,15,14,35,36],\"y\":[270012.1777690403,211924.21436446076,399432.1200548821,1015467.6936235607,887687.7943944031,389482.70402755577,625506.9728425352,1466299.0719132225,380786.38325618807,281893.1051885347,222608.26290704534,1088685.0703539012,363230.1883668858,977130.9967514427,816597.6981495684,1402534.2034081132,636124.6516952389,676747.0796130673,363473.3982870511,706301.1132896743,949468.1729977678,674889.6139128266,702038.2764735983,1475373.7938676644,181903.16904171632,972905.1044244221,1095309.710982918,307005.7115136157,926465.5494174506,949728.7549814746,550186.9654151704,1348025.9140805854,443327.2848945168,719950.7046698955,494705.04981406085,1329597.1765450723,377615.9750830139,1011499.2983135767,529248.3315107727,1242651.3119122647,759302.8642890768,436318.6990493332,1414684.8410745456,643807.4322943924,261458.3345403089],\"type\":\"bar\"}],                        {\"template\":{\"data\":{\"histogram2dcontour\":[{\"type\":\"histogram2dcontour\",\"colorbar\":{\"outlinewidth\":0,\"ticks\":\"\"},\"colorscale\":[[0.0,\"#0d0887\"],[0.1111111111111111,\"#46039f\"],[0.2222222222222222,\"#7201a8\"],[0.3333333333333333,\"#9c179e\"],[0.4444444444444444,\"#bd3786\"],[0.5555555555555556,\"#d8576b\"],[0.6666666666666666,\"#ed7953\"],[0.7777777777777778,\"#fb9f3a\"],[0.8888888888888888,\"#fdca26\"],[1.0,\"#f0f921\"]]}],\"choropleth\":[{\"type\":\"choropleth\",\"colorbar\":{\"outlinewidth\":0,\"ticks\":\"\"}}],\"histogram2d\":[{\"type\":\"histogram2d\",\"colorbar\":{\"outlinewidth\":0,\"ticks\":\"\"},\"colorscale\":[[0.0,\"#0d0887\"],[0.1111111111111111,\"#46039f\"],[0.2222222222222222,\"#7201a8\"],[0.3333333333333333,\"#9c179e\"],[0.4444444444444444,\"#bd3786\"],[0.5555555555555556,\"#d8576b\"],[0.6666666666666666,\"#ed7953\"],[0.7777777777777778,\"#fb9f3a\"],[0.8888888888888888,\"#fdca26\"],[1.0,\"#f0f921\"]]}],\"heatmap\":[{\"type\":\"heatmap\",\"colorbar\":{\"outlinewidth\":0,\"ticks\":\"\"},\"colorscale\":[[0.0,\"#0d0887\"],[0.1111111111111111,\"#46039f\"],[0.2222222222222222,\"#7201a8\"],[0.3333333333333333,\"#9c179e\"],[0.4444444444444444,\"#bd3786\"],[0.5555555555555556,\"#d8576b\"],[0.6666666666666666,\"#ed7953\"],[0.7777777777777778,\"#fb9f3a\"],[0.8888888888888888,\"#fdca26\"],[1.0,\"#f0f921\"]]}],\"heatmapgl\":[{\"type\":\"heatmapgl\",\"colorbar\":{\"outlinewidth\":0,\"ticks\":\"\"},\"colorscale\":[[0.0,\"#0d0887\"],[0.1111111111111111,\"#46039f\"],[0.2222222222222222,\"#7201a8\"],[0.3333333333333333,\"#9c179e\"],[0.4444444444444444,\"#bd3786\"],[0.5555555555555556,\"#d8576b\"],[0.6666666666666666,\"#ed7953\"],[0.7777777777777778,\"#fb9f3a\"],[0.8888888888888888,\"#fdca26\"],[1.0,\"#f0f921\"]]}],\"contourcarpet\":[{\"type\":\"contourcarpet\",\"colorbar\":{\"outlinewidth\":0,\"ticks\":\"\"}}],\"contour\":[{\"type\":\"contour\",\"colorbar\":{\"outlinewidth\":0,\"ticks\":\"\"},\"colorscale\":[[0.0,\"#0d0887\"],[0.1111111111111111,\"#46039f\"],[0.2222222222222222,\"#7201a8\"],[0.3333333333333333,\"#9c179e\"],[0.4444444444444444,\"#bd3786\"],[0.5555555555555556,\"#d8576b\"],[0.6666666666666666,\"#ed7953\"],[0.7777777777777778,\"#fb9f3a\"],[0.8888888888888888,\"#fdca26\"],[1.0,\"#f0f921\"]]}],\"surface\":[{\"type\":\"surface\",\"colorbar\":{\"outlinewidth\":0,\"ticks\":\"\"},\"colorscale\":[[0.0,\"#0d0887\"],[0.1111111111111111,\"#46039f\"],[0.2222222222222222,\"#7201a8\"],[0.3333333333333333,\"#9c179e\"],[0.4444444444444444,\"#bd3786\"],[0.5555555555555556,\"#d8576b\"],[0.6666666666666666,\"#ed7953\"],[0.7777777777777778,\"#fb9f3a\"],[0.8888888888888888,\"#fdca26\"],[1.0,\"#f0f921\"]]}],\"mesh3d\":[{\"type\":\"mesh3d\",\"colorbar\":{\"outlinewidth\":0,\"ticks\":\"\"}}],\"scatter\":[{\"fillpattern\":{\"fillmode\":\"overlay\",\"size\":10,\"solidity\":0.2},\"type\":\"scatter\"}],\"parcoords\":[{\"type\":\"parcoords\",\"line\":{\"colorbar\":{\"outlinewidth\":0,\"ticks\":\"\"}}}],\"scatterpolargl\":[{\"type\":\"scatterpolargl\",\"marker\":{\"colorbar\":{\"outlinewidth\":0,\"ticks\":\"\"}}}],\"bar\":[{\"error_x\":{\"color\":\"#2a3f5f\"},\"error_y\":{\"color\":\"#2a3f5f\"},\"marker\":{\"line\":{\"color\":\"#E5ECF6\",\"width\":0.5},\"pattern\":{\"fillmode\":\"overlay\",\"size\":10,\"solidity\":0.2}},\"type\":\"bar\"}],\"scattergeo\":[{\"type\":\"scattergeo\",\"marker\":{\"colorbar\":{\"outlinewidth\":0,\"ticks\":\"\"}}}],\"scatterpolar\":[{\"type\":\"scatterpolar\",\"marker\":{\"colorbar\":{\"outlinewidth\":0,\"ticks\":\"\"}}}],\"histogram\":[{\"marker\":{\"pattern\":{\"fillmode\":\"overlay\",\"size\":10,\"solidity\":0.2}},\"type\":\"histogram\"}],\"scattergl\":[{\"type\":\"scattergl\",\"marker\":{\"colorbar\":{\"outlinewidth\":0,\"ticks\":\"\"}}}],\"scatter3d\":[{\"type\":\"scatter3d\",\"line\":{\"colorbar\":{\"outlinewidth\":0,\"ticks\":\"\"}},\"marker\":{\"colorbar\":{\"outlinewidth\":0,\"ticks\":\"\"}}}],\"scattermapbox\":[{\"type\":\"scattermapbox\",\"marker\":{\"colorbar\":{\"outlinewidth\":0,\"ticks\":\"\"}}}],\"scatterternary\":[{\"type\":\"scatterternary\",\"marker\":{\"colorbar\":{\"outlinewidth\":0,\"ticks\":\"\"}}}],\"scattercarpet\":[{\"type\":\"scattercarpet\",\"marker\":{\"colorbar\":{\"outlinewidth\":0,\"ticks\":\"\"}}}],\"carpet\":[{\"aaxis\":{\"endlinecolor\":\"#2a3f5f\",\"gridcolor\":\"white\",\"linecolor\":\"white\",\"minorgridcolor\":\"white\",\"startlinecolor\":\"#2a3f5f\"},\"baxis\":{\"endlinecolor\":\"#2a3f5f\",\"gridcolor\":\"white\",\"linecolor\":\"white\",\"minorgridcolor\":\"white\",\"startlinecolor\":\"#2a3f5f\"},\"type\":\"carpet\"}],\"table\":[{\"cells\":{\"fill\":{\"color\":\"#EBF0F8\"},\"line\":{\"color\":\"white\"}},\"header\":{\"fill\":{\"color\":\"#C8D4E3\"},\"line\":{\"color\":\"white\"}},\"type\":\"table\"}],\"barpolar\":[{\"marker\":{\"line\":{\"color\":\"#E5ECF6\",\"width\":0.5},\"pattern\":{\"fillmode\":\"overlay\",\"size\":10,\"solidity\":0.2}},\"type\":\"barpolar\"}],\"pie\":[{\"automargin\":true,\"type\":\"pie\"}]},\"layout\":{\"autotypenumbers\":\"strict\",\"colorway\":[\"#636efa\",\"#EF553B\",\"#00cc96\",\"#ab63fa\",\"#FFA15A\",\"#19d3f3\",\"#FF6692\",\"#B6E880\",\"#FF97FF\",\"#FECB52\"],\"font\":{\"color\":\"#2a3f5f\"},\"hovermode\":\"closest\",\"hoverlabel\":{\"align\":\"left\"},\"paper_bgcolor\":\"white\",\"plot_bgcolor\":\"#E5ECF6\",\"polar\":{\"bgcolor\":\"#E5ECF6\",\"angularaxis\":{\"gridcolor\":\"white\",\"linecolor\":\"white\",\"ticks\":\"\"},\"radialaxis\":{\"gridcolor\":\"white\",\"linecolor\":\"white\",\"ticks\":\"\"}},\"ternary\":{\"bgcolor\":\"#E5ECF6\",\"aaxis\":{\"gridcolor\":\"white\",\"linecolor\":\"white\",\"ticks\":\"\"},\"baxis\":{\"gridcolor\":\"white\",\"linecolor\":\"white\",\"ticks\":\"\"},\"caxis\":{\"gridcolor\":\"white\",\"linecolor\":\"white\",\"ticks\":\"\"}},\"coloraxis\":{\"colorbar\":{\"outlinewidth\":0,\"ticks\":\"\"}},\"colorscale\":{\"sequential\":[[0.0,\"#0d0887\"],[0.1111111111111111,\"#46039f\"],[0.2222222222222222,\"#7201a8\"],[0.3333333333333333,\"#9c179e\"],[0.4444444444444444,\"#bd3786\"],[0.5555555555555556,\"#d8576b\"],[0.6666666666666666,\"#ed7953\"],[0.7777777777777778,\"#fb9f3a\"],[0.8888888888888888,\"#fdca26\"],[1.0,\"#f0f921\"]],\"sequentialminus\":[[0.0,\"#0d0887\"],[0.1111111111111111,\"#46039f\"],[0.2222222222222222,\"#7201a8\"],[0.3333333333333333,\"#9c179e\"],[0.4444444444444444,\"#bd3786\"],[0.5555555555555556,\"#d8576b\"],[0.6666666666666666,\"#ed7953\"],[0.7777777777777778,\"#fb9f3a\"],[0.8888888888888888,\"#fdca26\"],[1.0,\"#f0f921\"]],\"diverging\":[[0,\"#8e0152\"],[0.1,\"#c51b7d\"],[0.2,\"#de77ae\"],[0.3,\"#f1b6da\"],[0.4,\"#fde0ef\"],[0.5,\"#f7f7f7\"],[0.6,\"#e6f5d0\"],[0.7,\"#b8e186\"],[0.8,\"#7fbc41\"],[0.9,\"#4d9221\"],[1,\"#276419\"]]},\"xaxis\":{\"gridcolor\":\"white\",\"linecolor\":\"white\",\"ticks\":\"\",\"title\":{\"standoff\":15},\"zerolinecolor\":\"white\",\"automargin\":true,\"zerolinewidth\":2},\"yaxis\":{\"gridcolor\":\"white\",\"linecolor\":\"white\",\"ticks\":\"\",\"title\":{\"standoff\":15},\"zerolinecolor\":\"white\",\"automargin\":true,\"zerolinewidth\":2},\"scene\":{\"xaxis\":{\"backgroundcolor\":\"#E5ECF6\",\"gridcolor\":\"white\",\"linecolor\":\"white\",\"showbackground\":true,\"ticks\":\"\",\"zerolinecolor\":\"white\",\"gridwidth\":2},\"yaxis\":{\"backgroundcolor\":\"#E5ECF6\",\"gridcolor\":\"white\",\"linecolor\":\"white\",\"showbackground\":true,\"ticks\":\"\",\"zerolinecolor\":\"white\",\"gridwidth\":2},\"zaxis\":{\"backgroundcolor\":\"#E5ECF6\",\"gridcolor\":\"white\",\"linecolor\":\"white\",\"showbackground\":true,\"ticks\":\"\",\"zerolinecolor\":\"white\",\"gridwidth\":2}},\"shapedefaults\":{\"line\":{\"color\":\"#2a3f5f\"}},\"annotationdefaults\":{\"arrowcolor\":\"#2a3f5f\",\"arrowhead\":0,\"arrowwidth\":1},\"geo\":{\"bgcolor\":\"white\",\"landcolor\":\"#E5ECF6\",\"subunitcolor\":\"white\",\"showland\":true,\"showlakes\":true,\"lakecolor\":\"white\"},\"title\":{\"x\":0.05},\"mapbox\":{\"style\":\"light\"}}},\"title\":{\"text\":\"Vendas Semanais, Crescimento e Pontua\\u00e7\\u00e3o por Loja\"},\"xaxis\":{\"title\":{\"text\":\"Lojas\"}},\"yaxis\":{\"title\":{\"text\":\"Valores\"}},\"legend\":{\"title\":{\"text\":\"Indicadores\"}},\"barmode\":\"group\",\"bargap\":0.15,\"bargroupgap\":0.1,\"showlegend\":true},                        {\"responsive\": true}                    ).then(function(){\n",
              "                            \n",
              "var gd = document.getElementById('95a2be1f-a045-484a-be08-b1ed1ef2f57c');\n",
              "var x = new MutationObserver(function (mutations, observer) {{\n",
              "        var display = window.getComputedStyle(gd).display;\n",
              "        if (!display || display === 'none') {{\n",
              "            console.log([gd, 'removed!']);\n",
              "            Plotly.purge(gd);\n",
              "            observer.disconnect();\n",
              "        }}\n",
              "}});\n",
              "\n",
              "// Listen for the removal of the full notebook cells\n",
              "var notebookContainer = gd.closest('#notebook-container');\n",
              "if (notebookContainer) {{\n",
              "    x.observe(notebookContainer, {childList: true});\n",
              "}}\n",
              "\n",
              "// Listen for the clearing of the current output cell\n",
              "var outputEl = gd.closest('.output');\n",
              "if (outputEl) {{\n",
              "    x.observe(outputEl, {childList: true});\n",
              "}}\n",
              "\n",
              "                        })                };                            </script>        </div>\n",
              "</body>\n",
              "</html>"
            ]
          },
          "metadata": {}
        }
      ]
    }
  ]
}